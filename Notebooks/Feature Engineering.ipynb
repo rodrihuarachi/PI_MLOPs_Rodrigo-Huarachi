{
 "cells": [
  {
   "cell_type": "markdown",
   "metadata": {},
   "source": [
    "# <center> Feature Engineering </center>\n",
    "<center> En este Jupyter Notebook vamos a preparar los conjuntos de datos necesarios para las funciones. </center>"
   ]
  },
  {
   "cell_type": "markdown",
   "metadata": {},
   "source": [
    "## Importación de librerias"
   ]
  },
  {
   "cell_type": "code",
   "execution_count": 3,
   "metadata": {},
   "outputs": [
    {
     "name": "stderr",
     "output_type": "stream",
     "text": [
      "[nltk_data] Downloading package vader_lexicon to\n",
      "[nltk_data]     C:\\Users\\Rodrigo\\AppData\\Roaming\\nltk_data...\n",
      "[nltk_data]   Package vader_lexicon is already up-to-date!\n",
      "[nltk_data] Downloading package punkt to\n",
      "[nltk_data]     C:\\Users\\Rodrigo\\AppData\\Roaming\\nltk_data...\n",
      "[nltk_data]   Package punkt is already up-to-date!\n"
     ]
    }
   ],
   "source": [
    "import pandas as pd\n",
    "import numpy as np\n",
    "import Utilities as u\n",
    "import json\n",
    "import ast \n",
    "import requests\n",
    "\n",
    "from bs4 import BeautifulSoup\n",
    "import nltk\n",
    "\n",
    "nltk.download('vader_lexicon')\n",
    "nltk.download('punkt')\n",
    "from nltk.sentiment.vader import SentimentIntensityAnalyzer\n",
    "\n",
    "import warnings\n",
    "warnings.filterwarnings(\"ignore\")"
   ]
  },
  {
   "cell_type": "markdown",
   "metadata": {},
   "source": [
    "## Lectura de los datasets"
   ]
  },
  {
   "cell_type": "code",
   "execution_count": 4,
   "metadata": {},
   "outputs": [],
   "source": [
    "reviews = pd.read_csv('./dataset/Modificados/reviews_sentiment_analysis.csv')\n",
    "items = pd.read_csv('./dataset/Modificados/items.csv')\n",
    "users = pd.read_csv('./dataset/Modificados/users.csv')\n",
    "steam_games = pd.read_csv('./dataset/Modificados/steam_games.csv')"
   ]
  },
  {
   "cell_type": "markdown",
   "metadata": {},
   "source": [
    "# Sentiment Analysis"
   ]
  },
  {
   "cell_type": "markdown",
   "metadata": {},
   "source": [
    "Antes de preparar los conjuntos de datos, crearemos una nueva columna en el dataset **reviews** aplicando análisis de sentimiento con 'Natural Language Processing', el cual calisificara las resenias como:\n",
    "* 0 : Malo\n",
    "* 1 : Neutral\n",
    "* 2 : Positivo\n",
    "\n",
    "De no ser posible la clasificación por ausencia de la resenia, se tomara como Neutral.<br>\n",
    "Esto facilitara el trabajo de los modelos de Machine Learning y el Análisis de datos."
   ]
  },
  {
   "cell_type": "code",
   "execution_count": 120,
   "metadata": {},
   "outputs": [
    {
     "data": {
      "text/html": [
       "<div>\n",
       "<style scoped>\n",
       "    .dataframe tbody tr th:only-of-type {\n",
       "        vertical-align: middle;\n",
       "    }\n",
       "\n",
       "    .dataframe tbody tr th {\n",
       "        vertical-align: top;\n",
       "    }\n",
       "\n",
       "    .dataframe thead th {\n",
       "        text-align: right;\n",
       "    }\n",
       "</style>\n",
       "<table border=\"1\" class=\"dataframe\">\n",
       "  <thead>\n",
       "    <tr style=\"text-align: right;\">\n",
       "      <th></th>\n",
       "      <th>user_id</th>\n",
       "      <th>item_id</th>\n",
       "      <th>posted</th>\n",
       "      <th>last_edited</th>\n",
       "      <th>funny</th>\n",
       "      <th>recommend</th>\n",
       "      <th>review</th>\n",
       "      <th>helpful</th>\n",
       "    </tr>\n",
       "  </thead>\n",
       "  <tbody>\n",
       "    <tr>\n",
       "      <th>0</th>\n",
       "      <td>76561197970982479</td>\n",
       "      <td>1250</td>\n",
       "      <td>2011-11-05</td>\n",
       "      <td>NaN</td>\n",
       "      <td>NaN</td>\n",
       "      <td>True</td>\n",
       "      <td>Simple yet with great replayability. In my opi...</td>\n",
       "      <td>No ratings yet</td>\n",
       "    </tr>\n",
       "    <tr>\n",
       "      <th>1</th>\n",
       "      <td>76561197970982479</td>\n",
       "      <td>22200</td>\n",
       "      <td>2011-07-15</td>\n",
       "      <td>NaN</td>\n",
       "      <td>NaN</td>\n",
       "      <td>True</td>\n",
       "      <td>It's unique and worth a playthrough.</td>\n",
       "      <td>No ratings yet</td>\n",
       "    </tr>\n",
       "    <tr>\n",
       "      <th>2</th>\n",
       "      <td>76561197970982479</td>\n",
       "      <td>43110</td>\n",
       "      <td>2011-04-21</td>\n",
       "      <td>NaN</td>\n",
       "      <td>NaN</td>\n",
       "      <td>True</td>\n",
       "      <td>Great atmosphere. The gunplay can be a bit chu...</td>\n",
       "      <td>No ratings yet</td>\n",
       "    </tr>\n",
       "    <tr>\n",
       "      <th>3</th>\n",
       "      <td>js41637</td>\n",
       "      <td>251610</td>\n",
       "      <td>2014-06-24</td>\n",
       "      <td>NaN</td>\n",
       "      <td>NaN</td>\n",
       "      <td>True</td>\n",
       "      <td>I know what you think when you see this title ...</td>\n",
       "      <td>15 of 20 people (75%) found this review helpful</td>\n",
       "    </tr>\n",
       "    <tr>\n",
       "      <th>4</th>\n",
       "      <td>js41637</td>\n",
       "      <td>227300</td>\n",
       "      <td>2013-09-08</td>\n",
       "      <td>NaN</td>\n",
       "      <td>NaN</td>\n",
       "      <td>True</td>\n",
       "      <td>For a simple (it's actually not all that simpl...</td>\n",
       "      <td>0 of 1 people (0%) found this review helpful</td>\n",
       "    </tr>\n",
       "  </tbody>\n",
       "</table>\n",
       "</div>"
      ],
      "text/plain": [
       "             user_id  item_id      posted last_edited funny  recommend   \n",
       "0  76561197970982479     1250  2011-11-05         NaN   NaN       True  \\\n",
       "1  76561197970982479    22200  2011-07-15         NaN   NaN       True   \n",
       "2  76561197970982479    43110  2011-04-21         NaN   NaN       True   \n",
       "3            js41637   251610  2014-06-24         NaN   NaN       True   \n",
       "4            js41637   227300  2013-09-08         NaN   NaN       True   \n",
       "\n",
       "                                              review   \n",
       "0  Simple yet with great replayability. In my opi...  \\\n",
       "1               It's unique and worth a playthrough.   \n",
       "2  Great atmosphere. The gunplay can be a bit chu...   \n",
       "3  I know what you think when you see this title ...   \n",
       "4  For a simple (it's actually not all that simpl...   \n",
       "\n",
       "                                           helpful  \n",
       "0                                   No ratings yet  \n",
       "1                                   No ratings yet  \n",
       "2                                   No ratings yet  \n",
       "3  15 of 20 people (75%) found this review helpful  \n",
       "4     0 of 1 people (0%) found this review helpful  "
      ]
     },
     "execution_count": 120,
     "metadata": {},
     "output_type": "execute_result"
    }
   ],
   "source": [
    "reviews.head()"
   ]
  },
  {
   "cell_type": "markdown",
   "metadata": {},
   "source": [
    "Modificamos el tipo de datos de la columna *'review'* del dataset, para poder realizar el análisis."
   ]
  },
  {
   "cell_type": "code",
   "execution_count": 37,
   "metadata": {},
   "outputs": [],
   "source": [
    "reviews['review'] = reviews['review'].astype(str)"
   ]
  },
  {
   "cell_type": "markdown",
   "metadata": {},
   "source": [
    "Creamos una función para poder analizar cada fila de la columna *'review'*, utilizando la libreria **NLTK**"
   ]
  },
  {
   "cell_type": "code",
   "execution_count": 127,
   "metadata": {},
   "outputs": [
    {
     "name": "stderr",
     "output_type": "stream",
     "text": [
      "[nltk_data] Downloading package vader_lexicon to\n",
      "[nltk_data]     C:\\Users\\Rodrigo\\AppData\\Roaming\\nltk_data...\n",
      "[nltk_data]   Package vader_lexicon is already up-to-date!\n",
      "[nltk_data] Downloading package punkt to\n",
      "[nltk_data]     C:\\Users\\Rodrigo\\AppData\\Roaming\\nltk_data...\n",
      "[nltk_data]   Package punkt is already up-to-date!\n"
     ]
    }
   ],
   "source": [
    "def sentiment_analysis(text):\n",
    "    '''\n",
    "    Esta función utiliza la libreria NLTK para realizar un análisis de sentimiento de un texto\n",
    "    y devuelve un valor númerico que categoriza cada texto en:\n",
    "        0: NEGATIVO\n",
    "        2: POSITIVO\n",
    "        1: NEUTRAL\n",
    "    \n",
    "\n",
    "    Parameters:\n",
    "        text (str): El texto que se va a analizar.\n",
    "\n",
    "    Returns:\n",
    "        int: Un valor numérico que representa el sentimiento del texto:\n",
    "             - 0: Negativo.\n",
    "             - 1: Neutral\n",
    "             - 2: Positivo\n",
    "    '''\n",
    "    \n",
    "    sia = SentimentIntensityAnalyzer()\n",
    "    sentiment = sia.polarity_scores(text)\n",
    "\n",
    "    if sentiment['compound'] >= 0.05:\n",
    "        return 2\n",
    "    elif sentiment['compound'] <= -0.05:\n",
    "        return 0\n",
    "    else:\n",
    "        return 1"
   ]
  },
  {
   "cell_type": "markdown",
   "metadata": {},
   "source": [
    "Aplicamos esa función a cada registro de la columna *'review'*"
   ]
  },
  {
   "cell_type": "code",
   "execution_count": 128,
   "metadata": {},
   "outputs": [],
   "source": [
    "reviews['sentiment_analysis'] = reviews['review'].apply(sentiment_analysis)"
   ]
  },
  {
   "cell_type": "markdown",
   "metadata": {},
   "source": [
    "Esta nueva columna reemplazara a la columna de *'review'*,ya que nos facilitara el análisis. Asi que procederemos a eliminar la columna **review**"
   ]
  },
  {
   "cell_type": "code",
   "execution_count": 132,
   "metadata": {},
   "outputs": [],
   "source": [
    "reviews.drop(columns ='review',inplace = True)"
   ]
  },
  {
   "cell_type": "markdown",
   "metadata": {},
   "source": [
    "Procedemos a guardar el nuevo dataset en un archivo CSV"
   ]
  },
  {
   "cell_type": "code",
   "execution_count": 134,
   "metadata": {},
   "outputs": [],
   "source": [
    "reviews.to_csv('./dataset/Modificados/reviews_sentiment_analysis.csv', encoding='utf-8',index=False)"
   ]
  },
  {
   "cell_type": "code",
   "execution_count": 429,
   "metadata": {},
   "outputs": [],
   "source": [
    "reviews = pd.read_csv('./dataset/Modificados/reviews_sentiment_analysis.csv')"
   ]
  },
  {
   "cell_type": "markdown",
   "metadata": {},
   "source": [
    "# Función ***userdata***\n",
    "\n",
    "En esta función, toma como parámetro un *'user_id'* y se nos pide devolver la **cantidad de dinero gastado** por el usuario, el **porcentaje de recomendación** y la **cantidad de items**."
   ]
  },
  {
   "cell_type": "markdown",
   "metadata": {},
   "source": [
    "Para esta función vamos a necesitar:\n",
    "* user_id : ID del usuario.\n",
    "* total_spent: Cantidad de dinero gastado.\n",
    "* items_count: Cantidad de items.\n",
    "* recommend_total: Cantidad total de recomendaciones.\n",
    "* percent_recommend: Porcentaje de recomendacion."
   ]
  },
  {
   "cell_type": "markdown",
   "metadata": {},
   "source": [
    "Sacamos las columnas necesarias"
   ]
  },
  {
   "cell_type": "code",
   "execution_count": 7,
   "metadata": {},
   "outputs": [],
   "source": [
    "items_2 = items[['user_id','item_id']]\n",
    "users_2 = users[['user_id','items_count']] \n",
    "steam_2 = steam_games[['id','price']]\n",
    "reviews_2 = reviews[['user_id','recommend']]"
   ]
  },
  {
   "cell_type": "markdown",
   "metadata": {},
   "source": [
    "Primero vamos a sacar la cantidad de dinero gastado por usuario."
   ]
  },
  {
   "cell_type": "code",
   "execution_count": 8,
   "metadata": {},
   "outputs": [
    {
     "name": "stdout",
     "output_type": "stream",
     "text": [
      "<class 'pandas.core.frame.DataFrame'>\n",
      "RangeIndex: 10814961 entries, 0 to 10814960\n",
      "Data columns (total 2 columns):\n",
      " #   Column   Dtype \n",
      "---  ------   ----- \n",
      " 0   user_id  object\n",
      " 1   item_id  int64 \n",
      "dtypes: int64(1), object(1)\n",
      "memory usage: 165.0+ MB\n"
     ]
    }
   ],
   "source": [
    "items_2.info()"
   ]
  },
  {
   "cell_type": "code",
   "execution_count": 9,
   "metadata": {},
   "outputs": [
    {
     "name": "stdout",
     "output_type": "stream",
     "text": [
      "<class 'pandas.core.frame.DataFrame'>\n",
      "RangeIndex: 32132 entries, 0 to 32131\n",
      "Data columns (total 2 columns):\n",
      " #   Column  Non-Null Count  Dtype  \n",
      "---  ------  --------------  -----  \n",
      " 0   id      32132 non-null  float64\n",
      " 1   price   32132 non-null  object \n",
      "dtypes: float64(1), object(1)\n",
      "memory usage: 502.2+ KB\n"
     ]
    }
   ],
   "source": [
    "steam_2.info()"
   ]
  },
  {
   "cell_type": "markdown",
   "metadata": {},
   "source": [
    "Cambiamos el tipo de datos de la columna *'id'* para poder unir ambos DataFrames."
   ]
  },
  {
   "cell_type": "code",
   "execution_count": 10,
   "metadata": {},
   "outputs": [],
   "source": [
    "steam_2['id'] = steam_2['id'].astype(int)"
   ]
  },
  {
   "cell_type": "markdown",
   "metadata": {},
   "source": [
    "Unimos los DataFrames."
   ]
  },
  {
   "cell_type": "code",
   "execution_count": 11,
   "metadata": {},
   "outputs": [],
   "source": [
    "df_function1 = items_2.merge(steam_2, left_on = 'item_id', right_on = 'id', how = 'left' )"
   ]
  },
  {
   "cell_type": "code",
   "execution_count": 12,
   "metadata": {},
   "outputs": [
    {
     "data": {
      "text/html": [
       "<div>\n",
       "<style scoped>\n",
       "    .dataframe tbody tr th:only-of-type {\n",
       "        vertical-align: middle;\n",
       "    }\n",
       "\n",
       "    .dataframe tbody tr th {\n",
       "        vertical-align: top;\n",
       "    }\n",
       "\n",
       "    .dataframe thead th {\n",
       "        text-align: right;\n",
       "    }\n",
       "</style>\n",
       "<table border=\"1\" class=\"dataframe\">\n",
       "  <thead>\n",
       "    <tr style=\"text-align: right;\">\n",
       "      <th></th>\n",
       "      <th>user_id</th>\n",
       "      <th>item_id</th>\n",
       "      <th>id</th>\n",
       "      <th>price</th>\n",
       "    </tr>\n",
       "  </thead>\n",
       "  <tbody>\n",
       "    <tr>\n",
       "      <th>0</th>\n",
       "      <td>76561197970982479</td>\n",
       "      <td>10</td>\n",
       "      <td>10.0</td>\n",
       "      <td>9.99</td>\n",
       "    </tr>\n",
       "    <tr>\n",
       "      <th>1</th>\n",
       "      <td>76561197970982479</td>\n",
       "      <td>20</td>\n",
       "      <td>20.0</td>\n",
       "      <td>4.99</td>\n",
       "    </tr>\n",
       "    <tr>\n",
       "      <th>2</th>\n",
       "      <td>76561197970982479</td>\n",
       "      <td>30</td>\n",
       "      <td>30.0</td>\n",
       "      <td>4.99</td>\n",
       "    </tr>\n",
       "    <tr>\n",
       "      <th>3</th>\n",
       "      <td>76561197970982479</td>\n",
       "      <td>40</td>\n",
       "      <td>40.0</td>\n",
       "      <td>4.99</td>\n",
       "    </tr>\n",
       "    <tr>\n",
       "      <th>4</th>\n",
       "      <td>76561197970982479</td>\n",
       "      <td>50</td>\n",
       "      <td>50.0</td>\n",
       "      <td>4.99</td>\n",
       "    </tr>\n",
       "  </tbody>\n",
       "</table>\n",
       "</div>"
      ],
      "text/plain": [
       "             user_id  item_id    id price\n",
       "0  76561197970982479       10  10.0  9.99\n",
       "1  76561197970982479       20  20.0  4.99\n",
       "2  76561197970982479       30  30.0  4.99\n",
       "3  76561197970982479       40  40.0  4.99\n",
       "4  76561197970982479       50  50.0  4.99"
      ]
     },
     "execution_count": 12,
     "metadata": {},
     "output_type": "execute_result"
    }
   ],
   "source": [
    "df_function1.head()"
   ]
  },
  {
   "cell_type": "code",
   "execution_count": 158,
   "metadata": {},
   "outputs": [
    {
     "name": "stdout",
     "output_type": "stream",
     "text": [
      "<class 'pandas.core.frame.DataFrame'>\n",
      "RangeIndex: 10814961 entries, 0 to 10814960\n",
      "Data columns (total 4 columns):\n",
      " #   Column   Dtype  \n",
      "---  ------   -----  \n",
      " 0   user_id  object \n",
      " 1   item_id  int64  \n",
      " 2   id       float64\n",
      " 3   price    object \n",
      "dtypes: float64(1), int64(1), object(2)\n",
      "memory usage: 330.0+ MB\n"
     ]
    }
   ],
   "source": [
    "df_function1.info()"
   ]
  },
  {
   "cell_type": "code",
   "execution_count": 13,
   "metadata": {},
   "outputs": [
    {
     "data": {
      "text/plain": [
       "5720879"
      ]
     },
     "execution_count": 13,
     "metadata": {},
     "output_type": "execute_result"
    }
   ],
   "source": [
    "df_function1.duplicated().sum()"
   ]
  },
  {
   "cell_type": "markdown",
   "metadata": {},
   "source": [
    "Vemos que hay varios duplicados, asi que los eliminamos."
   ]
  },
  {
   "cell_type": "code",
   "execution_count": 14,
   "metadata": {},
   "outputs": [],
   "source": [
    "df_function1.drop_duplicates(inplace= True)"
   ]
  },
  {
   "cell_type": "markdown",
   "metadata": {},
   "source": [
    "Eliminamos la columna *'id'* ya que tenemos la misma informacion en la columna *'items_id'*"
   ]
  },
  {
   "cell_type": "code",
   "execution_count": 15,
   "metadata": {},
   "outputs": [],
   "source": [
    "df_function1.drop(columns= 'id',inplace= True)"
   ]
  },
  {
   "cell_type": "markdown",
   "metadata": {},
   "source": [
    "Verificamos los valores nulos."
   ]
  },
  {
   "cell_type": "code",
   "execution_count": 16,
   "metadata": {},
   "outputs": [
    {
     "name": "stdout",
     "output_type": "stream",
     "text": [
      "La columna user_id tiene un 0.0% de valores nulos.\n",
      "La columna item_id tiene un 0.0% de valores nulos.\n",
      "La columna price tiene un 16.7% de valores nulos.\n"
     ]
    }
   ],
   "source": [
    "u.valores_nulos(df_function1)"
   ]
  },
  {
   "cell_type": "markdown",
   "metadata": {},
   "source": [
    "Vemos que hay un 16,7% de registros vacios en la columna **price**, y asumimos que si no tienen precio es porque son gratuitos, asi que lo modificamos por '0'."
   ]
  },
  {
   "cell_type": "code",
   "execution_count": 17,
   "metadata": {},
   "outputs": [],
   "source": [
    "df_function1['price'].fillna(0.0, inplace=True)"
   ]
  },
  {
   "cell_type": "markdown",
   "metadata": {},
   "source": [
    "Veamos un poco los registros de la columna **price**"
   ]
  },
  {
   "cell_type": "code",
   "execution_count": 18,
   "metadata": {},
   "outputs": [
    {
     "data": {
      "text/plain": [
       "array(['9.99', '4.99', '19.99', 0.0, '6.99', '--', '7.99', '2.99',\n",
       "       '14.99', '0.0', '54.99', '29.99', '39.99', '24.99', '1.99',\n",
       "       '11.99', '0.49', '0.98', '0.99', '59.99', '3.99', '2.49', '74.76',\n",
       "       '5.99', '32.99', '12.99', '49.99', '13.98', '8.99', '13.99',\n",
       "       '34.99', '12.89', '20.0', '14.95', '61.99', '15.99', '18.99',\n",
       "       '17.99', '160.91', '59.95', '44.99', '3.49', '1.87', '23.99',\n",
       "       '21.99', '15.0', '189.96', '139.92', '23.96', '26.99', '16.99',\n",
       "       '7.49', '10.93', '19.98', '87.94', '69.99', '16.06', '13.37',\n",
       "       '10.99', '79.99', '1.0', '0.5', '49.0', '771.71', '20.99', '99.99',\n",
       "       '4.49', '9.95', '124.99', '10.0', '0.89', '1.29', '18.9', '4.0',\n",
       "       '3.0', '2.0', '31.99', '119.99', '9.69', '299.99', '29.96', '9.98',\n",
       "       '1.5', '8.98', '12.0', '9.0', '5.65', '74.99', '2.89', '449.0'],\n",
       "      dtype=object)"
      ]
     },
     "execution_count": 18,
     "metadata": {},
     "output_type": "execute_result"
    }
   ],
   "source": [
    "df_function1.price.unique()"
   ]
  },
  {
   "cell_type": "markdown",
   "metadata": {},
   "source": [
    "Notamos que hay regitros con valores '--', asi que eliminamos las filas que contengan este valor."
   ]
  },
  {
   "cell_type": "code",
   "execution_count": 19,
   "metadata": {},
   "outputs": [],
   "source": [
    "df_function1 = df_function1.drop(df_function1[df_function1['price'] == '--'].index)"
   ]
  },
  {
   "cell_type": "markdown",
   "metadata": {},
   "source": [
    "Corroboramos"
   ]
  },
  {
   "cell_type": "code",
   "execution_count": 20,
   "metadata": {},
   "outputs": [
    {
     "data": {
      "text/plain": [
       "array(['9.99', '4.99', '19.99', 0.0, '6.99', '7.99', '2.99', '14.99',\n",
       "       '0.0', '54.99', '29.99', '39.99', '24.99', '1.99', '11.99', '0.49',\n",
       "       '0.98', '0.99', '59.99', '3.99', '2.49', '74.76', '5.99', '32.99',\n",
       "       '12.99', '49.99', '13.98', '8.99', '13.99', '34.99', '12.89',\n",
       "       '20.0', '14.95', '61.99', '15.99', '18.99', '17.99', '160.91',\n",
       "       '59.95', '44.99', '3.49', '1.87', '23.99', '21.99', '15.0',\n",
       "       '189.96', '139.92', '23.96', '26.99', '16.99', '7.49', '10.93',\n",
       "       '19.98', '87.94', '69.99', '16.06', '13.37', '10.99', '79.99',\n",
       "       '1.0', '0.5', '49.0', '771.71', '20.99', '99.99', '4.49', '9.95',\n",
       "       '124.99', '10.0', '0.89', '1.29', '18.9', '4.0', '3.0', '2.0',\n",
       "       '31.99', '119.99', '9.69', '299.99', '29.96', '9.98', '1.5',\n",
       "       '8.98', '12.0', '9.0', '5.65', '74.99', '2.89', '449.0'],\n",
       "      dtype=object)"
      ]
     },
     "execution_count": 20,
     "metadata": {},
     "output_type": "execute_result"
    }
   ],
   "source": [
    "df_function1.price.unique()"
   ]
  },
  {
   "cell_type": "markdown",
   "metadata": {},
   "source": [
    "Ahora modificamos el tipo de dato."
   ]
  },
  {
   "cell_type": "code",
   "execution_count": 21,
   "metadata": {},
   "outputs": [],
   "source": [
    "df_function1['price'] = df_function1['price'].astype(float)"
   ]
  },
  {
   "cell_type": "markdown",
   "metadata": {},
   "source": [
    "Procedemos a agrupar por usuario sumando los precios de los items adquiridos."
   ]
  },
  {
   "cell_type": "code",
   "execution_count": 22,
   "metadata": {},
   "outputs": [],
   "source": [
    "df_function_1 = df_function1.groupby('user_id')['price'].sum().reset_index()"
   ]
  },
  {
   "cell_type": "code",
   "execution_count": 23,
   "metadata": {},
   "outputs": [
    {
     "data": {
      "text/html": [
       "<div>\n",
       "<style scoped>\n",
       "    .dataframe tbody tr th:only-of-type {\n",
       "        vertical-align: middle;\n",
       "    }\n",
       "\n",
       "    .dataframe tbody tr th {\n",
       "        vertical-align: top;\n",
       "    }\n",
       "\n",
       "    .dataframe thead th {\n",
       "        text-align: right;\n",
       "    }\n",
       "</style>\n",
       "<table border=\"1\" class=\"dataframe\">\n",
       "  <thead>\n",
       "    <tr style=\"text-align: right;\">\n",
       "      <th></th>\n",
       "      <th>user_id</th>\n",
       "      <th>price</th>\n",
       "    </tr>\n",
       "  </thead>\n",
       "  <tbody>\n",
       "    <tr>\n",
       "      <th>0</th>\n",
       "      <td>--000--</td>\n",
       "      <td>402.77</td>\n",
       "    </tr>\n",
       "    <tr>\n",
       "      <th>1</th>\n",
       "      <td>--ace--</td>\n",
       "      <td>166.82</td>\n",
       "    </tr>\n",
       "    <tr>\n",
       "      <th>2</th>\n",
       "      <td>--ionex--</td>\n",
       "      <td>109.92</td>\n",
       "    </tr>\n",
       "    <tr>\n",
       "      <th>3</th>\n",
       "      <td>-2SV-vuLB-Kg</td>\n",
       "      <td>437.49</td>\n",
       "    </tr>\n",
       "    <tr>\n",
       "      <th>4</th>\n",
       "      <td>-404PageNotFound-</td>\n",
       "      <td>1514.31</td>\n",
       "    </tr>\n",
       "  </tbody>\n",
       "</table>\n",
       "</div>"
      ],
      "text/plain": [
       "             user_id    price\n",
       "0            --000--   402.77\n",
       "1            --ace--   166.82\n",
       "2          --ionex--   109.92\n",
       "3       -2SV-vuLB-Kg   437.49\n",
       "4  -404PageNotFound-  1514.31"
      ]
     },
     "execution_count": 23,
     "metadata": {},
     "output_type": "execute_result"
    }
   ],
   "source": [
    "df_function_1.head()"
   ]
  },
  {
   "cell_type": "markdown",
   "metadata": {},
   "source": [
    "Ahora este DataFrame lo unimos con ***'users_2'*** para obtener la cantidad de items por usuario."
   ]
  },
  {
   "cell_type": "code",
   "execution_count": 24,
   "metadata": {},
   "outputs": [],
   "source": [
    "df_function_1 = df_function_1.merge(users_2, on='user_id', how = 'left')"
   ]
  },
  {
   "cell_type": "code",
   "execution_count": 25,
   "metadata": {},
   "outputs": [
    {
     "data": {
      "text/html": [
       "<div>\n",
       "<style scoped>\n",
       "    .dataframe tbody tr th:only-of-type {\n",
       "        vertical-align: middle;\n",
       "    }\n",
       "\n",
       "    .dataframe tbody tr th {\n",
       "        vertical-align: top;\n",
       "    }\n",
       "\n",
       "    .dataframe thead th {\n",
       "        text-align: right;\n",
       "    }\n",
       "</style>\n",
       "<table border=\"1\" class=\"dataframe\">\n",
       "  <thead>\n",
       "    <tr style=\"text-align: right;\">\n",
       "      <th></th>\n",
       "      <th>user_id</th>\n",
       "      <th>price</th>\n",
       "      <th>items_count</th>\n",
       "    </tr>\n",
       "  </thead>\n",
       "  <tbody>\n",
       "    <tr>\n",
       "      <th>0</th>\n",
       "      <td>--000--</td>\n",
       "      <td>402.77</td>\n",
       "      <td>58</td>\n",
       "    </tr>\n",
       "    <tr>\n",
       "      <th>1</th>\n",
       "      <td>--ace--</td>\n",
       "      <td>166.82</td>\n",
       "      <td>44</td>\n",
       "    </tr>\n",
       "    <tr>\n",
       "      <th>2</th>\n",
       "      <td>--ionex--</td>\n",
       "      <td>109.92</td>\n",
       "      <td>23</td>\n",
       "    </tr>\n",
       "    <tr>\n",
       "      <th>3</th>\n",
       "      <td>-2SV-vuLB-Kg</td>\n",
       "      <td>437.49</td>\n",
       "      <td>68</td>\n",
       "    </tr>\n",
       "    <tr>\n",
       "      <th>4</th>\n",
       "      <td>-404PageNotFound-</td>\n",
       "      <td>1514.31</td>\n",
       "      <td>149</td>\n",
       "    </tr>\n",
       "  </tbody>\n",
       "</table>\n",
       "</div>"
      ],
      "text/plain": [
       "             user_id    price  items_count\n",
       "0            --000--   402.77           58\n",
       "1            --ace--   166.82           44\n",
       "2          --ionex--   109.92           23\n",
       "3       -2SV-vuLB-Kg   437.49           68\n",
       "4  -404PageNotFound-  1514.31          149"
      ]
     },
     "execution_count": 25,
     "metadata": {},
     "output_type": "execute_result"
    }
   ],
   "source": [
    "df_function_1.head()"
   ]
  },
  {
   "cell_type": "markdown",
   "metadata": {},
   "source": [
    "Bien, ahora vamos a agrupar por usuario el DataFrame ***'reviews_2'*** para obtener la cantidad de items recomendados."
   ]
  },
  {
   "cell_type": "code",
   "execution_count": 26,
   "metadata": {},
   "outputs": [],
   "source": [
    "df_review = reviews_2.groupby('user_id')['recommend'].sum().reset_index()"
   ]
  },
  {
   "cell_type": "code",
   "execution_count": 27,
   "metadata": {},
   "outputs": [
    {
     "data": {
      "text/html": [
       "<div>\n",
       "<style scoped>\n",
       "    .dataframe tbody tr th:only-of-type {\n",
       "        vertical-align: middle;\n",
       "    }\n",
       "\n",
       "    .dataframe tbody tr th {\n",
       "        vertical-align: top;\n",
       "    }\n",
       "\n",
       "    .dataframe thead th {\n",
       "        text-align: right;\n",
       "    }\n",
       "</style>\n",
       "<table border=\"1\" class=\"dataframe\">\n",
       "  <thead>\n",
       "    <tr style=\"text-align: right;\">\n",
       "      <th></th>\n",
       "      <th>user_id</th>\n",
       "      <th>recommend</th>\n",
       "    </tr>\n",
       "  </thead>\n",
       "  <tbody>\n",
       "    <tr>\n",
       "      <th>0</th>\n",
       "      <td>--000--</td>\n",
       "      <td>1</td>\n",
       "    </tr>\n",
       "    <tr>\n",
       "      <th>1</th>\n",
       "      <td>--ace--</td>\n",
       "      <td>2</td>\n",
       "    </tr>\n",
       "    <tr>\n",
       "      <th>2</th>\n",
       "      <td>--ionex--</td>\n",
       "      <td>2</td>\n",
       "    </tr>\n",
       "    <tr>\n",
       "      <th>3</th>\n",
       "      <td>-2SV-vuLB-Kg</td>\n",
       "      <td>5</td>\n",
       "    </tr>\n",
       "    <tr>\n",
       "      <th>4</th>\n",
       "      <td>-Azsael-</td>\n",
       "      <td>1</td>\n",
       "    </tr>\n",
       "  </tbody>\n",
       "</table>\n",
       "</div>"
      ],
      "text/plain": [
       "        user_id  recommend\n",
       "0       --000--          1\n",
       "1       --ace--          2\n",
       "2     --ionex--          2\n",
       "3  -2SV-vuLB-Kg          5\n",
       "4      -Azsael-          1"
      ]
     },
     "execution_count": 27,
     "metadata": {},
     "output_type": "execute_result"
    }
   ],
   "source": [
    "df_review.head()"
   ]
  },
  {
   "cell_type": "markdown",
   "metadata": {},
   "source": [
    "Procedemos a unirlo con el DataFRame ***df_function_1***"
   ]
  },
  {
   "cell_type": "code",
   "execution_count": 28,
   "metadata": {},
   "outputs": [],
   "source": [
    "df_function_1 = df_function_1.merge(df_review, on='user_id', how = 'left')"
   ]
  },
  {
   "cell_type": "code",
   "execution_count": 29,
   "metadata": {},
   "outputs": [
    {
     "data": {
      "text/html": [
       "<div>\n",
       "<style scoped>\n",
       "    .dataframe tbody tr th:only-of-type {\n",
       "        vertical-align: middle;\n",
       "    }\n",
       "\n",
       "    .dataframe tbody tr th {\n",
       "        vertical-align: top;\n",
       "    }\n",
       "\n",
       "    .dataframe thead th {\n",
       "        text-align: right;\n",
       "    }\n",
       "</style>\n",
       "<table border=\"1\" class=\"dataframe\">\n",
       "  <thead>\n",
       "    <tr style=\"text-align: right;\">\n",
       "      <th></th>\n",
       "      <th>user_id</th>\n",
       "      <th>price</th>\n",
       "      <th>items_count</th>\n",
       "      <th>recommend</th>\n",
       "    </tr>\n",
       "  </thead>\n",
       "  <tbody>\n",
       "    <tr>\n",
       "      <th>0</th>\n",
       "      <td>--000--</td>\n",
       "      <td>402.77</td>\n",
       "      <td>58</td>\n",
       "      <td>1.0</td>\n",
       "    </tr>\n",
       "    <tr>\n",
       "      <th>1</th>\n",
       "      <td>--ace--</td>\n",
       "      <td>166.82</td>\n",
       "      <td>44</td>\n",
       "      <td>2.0</td>\n",
       "    </tr>\n",
       "    <tr>\n",
       "      <th>2</th>\n",
       "      <td>--ionex--</td>\n",
       "      <td>109.92</td>\n",
       "      <td>23</td>\n",
       "      <td>2.0</td>\n",
       "    </tr>\n",
       "    <tr>\n",
       "      <th>3</th>\n",
       "      <td>-2SV-vuLB-Kg</td>\n",
       "      <td>437.49</td>\n",
       "      <td>68</td>\n",
       "      <td>5.0</td>\n",
       "    </tr>\n",
       "    <tr>\n",
       "      <th>4</th>\n",
       "      <td>-404PageNotFound-</td>\n",
       "      <td>1514.31</td>\n",
       "      <td>149</td>\n",
       "      <td>NaN</td>\n",
       "    </tr>\n",
       "  </tbody>\n",
       "</table>\n",
       "</div>"
      ],
      "text/plain": [
       "             user_id    price  items_count  recommend\n",
       "0            --000--   402.77           58        1.0\n",
       "1            --ace--   166.82           44        2.0\n",
       "2          --ionex--   109.92           23        2.0\n",
       "3       -2SV-vuLB-Kg   437.49           68        5.0\n",
       "4  -404PageNotFound-  1514.31          149        NaN"
      ]
     },
     "execution_count": 29,
     "metadata": {},
     "output_type": "execute_result"
    }
   ],
   "source": [
    "df_function_1.head()"
   ]
  },
  {
   "cell_type": "code",
   "execution_count": 30,
   "metadata": {},
   "outputs": [
    {
     "name": "stdout",
     "output_type": "stream",
     "text": [
      "<class 'pandas.core.frame.DataFrame'>\n",
      "RangeIndex: 70871 entries, 0 to 70870\n",
      "Data columns (total 4 columns):\n",
      " #   Column       Non-Null Count  Dtype  \n",
      "---  ------       --------------  -----  \n",
      " 0   user_id      70871 non-null  object \n",
      " 1   price        70871 non-null  float64\n",
      " 2   items_count  70871 non-null  int64  \n",
      " 3   recommend    22613 non-null  float64\n",
      "dtypes: float64(2), int64(1), object(1)\n",
      "memory usage: 2.2+ MB\n"
     ]
    }
   ],
   "source": [
    "df_function_1.info()"
   ]
  },
  {
   "cell_type": "markdown",
   "metadata": {},
   "source": [
    "Vemos que hay valores nullos en la columnas *'recommend'*, asi que lo cambiaremos por 0"
   ]
  },
  {
   "cell_type": "code",
   "execution_count": 31,
   "metadata": {},
   "outputs": [],
   "source": [
    "df_function_1['recommend'].fillna(0, inplace= True)"
   ]
  },
  {
   "cell_type": "code",
   "execution_count": 32,
   "metadata": {},
   "outputs": [
    {
     "name": "stdout",
     "output_type": "stream",
     "text": [
      "<class 'pandas.core.frame.DataFrame'>\n",
      "RangeIndex: 70871 entries, 0 to 70870\n",
      "Data columns (total 4 columns):\n",
      " #   Column       Non-Null Count  Dtype  \n",
      "---  ------       --------------  -----  \n",
      " 0   user_id      70871 non-null  object \n",
      " 1   price        70871 non-null  float64\n",
      " 2   items_count  70871 non-null  int64  \n",
      " 3   recommend    70871 non-null  float64\n",
      "dtypes: float64(2), int64(1), object(1)\n",
      "memory usage: 2.2+ MB\n"
     ]
    }
   ],
   "source": [
    "df_function_1.info()"
   ]
  },
  {
   "cell_type": "markdown",
   "metadata": {},
   "source": [
    "Ahora crearemos una columna con el valor del porcentaje de recomendacion por usuario."
   ]
  },
  {
   "cell_type": "code",
   "execution_count": 33,
   "metadata": {},
   "outputs": [],
   "source": [
    "df_function_1['percent_recommend'] = (df_function_1['recommend'] / df_function_1['items_count'] * 100).round(2)"
   ]
  },
  {
   "cell_type": "code",
   "execution_count": 34,
   "metadata": {},
   "outputs": [
    {
     "data": {
      "text/html": [
       "<div>\n",
       "<style scoped>\n",
       "    .dataframe tbody tr th:only-of-type {\n",
       "        vertical-align: middle;\n",
       "    }\n",
       "\n",
       "    .dataframe tbody tr th {\n",
       "        vertical-align: top;\n",
       "    }\n",
       "\n",
       "    .dataframe thead th {\n",
       "        text-align: right;\n",
       "    }\n",
       "</style>\n",
       "<table border=\"1\" class=\"dataframe\">\n",
       "  <thead>\n",
       "    <tr style=\"text-align: right;\">\n",
       "      <th></th>\n",
       "      <th>user_id</th>\n",
       "      <th>price</th>\n",
       "      <th>items_count</th>\n",
       "      <th>recommend</th>\n",
       "      <th>percent_recommend</th>\n",
       "    </tr>\n",
       "  </thead>\n",
       "  <tbody>\n",
       "    <tr>\n",
       "      <th>0</th>\n",
       "      <td>--000--</td>\n",
       "      <td>402.77</td>\n",
       "      <td>58</td>\n",
       "      <td>1.0</td>\n",
       "      <td>1.72</td>\n",
       "    </tr>\n",
       "    <tr>\n",
       "      <th>1</th>\n",
       "      <td>--ace--</td>\n",
       "      <td>166.82</td>\n",
       "      <td>44</td>\n",
       "      <td>2.0</td>\n",
       "      <td>4.55</td>\n",
       "    </tr>\n",
       "    <tr>\n",
       "      <th>2</th>\n",
       "      <td>--ionex--</td>\n",
       "      <td>109.92</td>\n",
       "      <td>23</td>\n",
       "      <td>2.0</td>\n",
       "      <td>8.70</td>\n",
       "    </tr>\n",
       "    <tr>\n",
       "      <th>3</th>\n",
       "      <td>-2SV-vuLB-Kg</td>\n",
       "      <td>437.49</td>\n",
       "      <td>68</td>\n",
       "      <td>5.0</td>\n",
       "      <td>7.35</td>\n",
       "    </tr>\n",
       "    <tr>\n",
       "      <th>4</th>\n",
       "      <td>-404PageNotFound-</td>\n",
       "      <td>1514.31</td>\n",
       "      <td>149</td>\n",
       "      <td>0.0</td>\n",
       "      <td>0.00</td>\n",
       "    </tr>\n",
       "  </tbody>\n",
       "</table>\n",
       "</div>"
      ],
      "text/plain": [
       "             user_id    price  items_count  recommend  percent_recommend\n",
       "0            --000--   402.77           58        1.0               1.72\n",
       "1            --ace--   166.82           44        2.0               4.55\n",
       "2          --ionex--   109.92           23        2.0               8.70\n",
       "3       -2SV-vuLB-Kg   437.49           68        5.0               7.35\n",
       "4  -404PageNotFound-  1514.31          149        0.0               0.00"
      ]
     },
     "execution_count": 34,
     "metadata": {},
     "output_type": "execute_result"
    }
   ],
   "source": [
    "df_function_1.head()"
   ]
  },
  {
   "cell_type": "markdown",
   "metadata": {},
   "source": [
    "Renombramos las columnas para entender mejor el DataFrame."
   ]
  },
  {
   "cell_type": "code",
   "execution_count": 35,
   "metadata": {},
   "outputs": [],
   "source": [
    "df_function_1.rename(columns={'recommend': 'recommend_total','price': 'total_spent'}, inplace=True)"
   ]
  },
  {
   "cell_type": "markdown",
   "metadata": {},
   "source": [
    "Guardamos el DataFrame en un archivo CSV para realizar la función de la API."
   ]
  },
  {
   "cell_type": "code",
   "execution_count": 47,
   "metadata": {},
   "outputs": [],
   "source": [
    "df_function_1.to_csv('./dataset/Endpoints/endpoint_userdata.csv', index= False)"
   ]
  },
  {
   "cell_type": "code",
   "execution_count": 1,
   "metadata": {},
   "outputs": [],
   "source": [
    "# Prueba de funcion:\n",
    "\n",
    "def userdata(user_id: str):\n",
    "    df = df_function_1.loc[df_function_1['user_id'] == user_id]\n",
    "    \n",
    "    if not df.empty:\n",
    "        user = df['user_id'].values[0]\n",
    "        spent = df['total_spent'].values[0]\n",
    "        percent_recommend = df['percent_recommend'].values[0]\n",
    "        item_count = df['items_count'].values[0]\n",
    "        return f'El usuario {user} gastó ${spent}, el cual recomendó un {percent_recommend}% y tiene {item_count} items'\n",
    "    else:\n",
    "        return 'No hay registros de ese usuario'\n"
   ]
  },
  {
   "cell_type": "code",
   "execution_count": null,
   "metadata": {},
   "outputs": [],
   "source": [
    "userdata('76561197970982479')"
   ]
  },
  {
   "cell_type": "markdown",
   "metadata": {},
   "source": [
    "# Función ***countreviews***\n",
    "\n",
    "En esta función, se toma 2 parámetros lo cual son fechas, y se nos pide devolver la **cantidad de usuarios** que realizaron *reviews* entre las fechas dadas y el **porcentaje** de recomendacion."
   ]
  },
  {
   "cell_type": "markdown",
   "metadata": {},
   "source": [
    "Para esta función vamos a necesitar:\n",
    "* user_id: ID del usuario\n",
    "* posted: Fecha del posteo de la reseña\n",
    "* recommend : Nos informa si el item es recomendado o no."
   ]
  },
  {
   "cell_type": "markdown",
   "metadata": {},
   "source": [
    "Sacamos las columnas necesarias"
   ]
  },
  {
   "cell_type": "code",
   "execution_count": 40,
   "metadata": {},
   "outputs": [],
   "source": [
    "df_function_2 = reviews[['user_id','posted','recommend']]"
   ]
  },
  {
   "cell_type": "markdown",
   "metadata": {},
   "source": [
    "Guardamos el DataFrame en un archivo CSV para realizar la función de la API."
   ]
  },
  {
   "cell_type": "code",
   "execution_count": 46,
   "metadata": {},
   "outputs": [],
   "source": [
    "df_function_2.to_csv('./dataset/Endpoints/endpoint_countreviews.csv', index= False)"
   ]
  },
  {
   "cell_type": "code",
   "execution_count": 12,
   "metadata": {},
   "outputs": [],
   "source": [
    "def countreviews(desde:str, hasta:str):\n",
    "    \n",
    "    df = df_function_2[(df_function_2['posted'] >= desde) & (df_function_2['posted'] <= hasta)]\n",
    "\n",
    "    if not df.empty:\n",
    "        user_count = df['user_id'].nunique()\n",
    "        recommend_count = df['recommend'].count()\n",
    "        recommend_sum = df['recommend'].sum()\n",
    "        recommend_percent = round(recommend_sum / recommend_count * 100, 2)\n",
    "        return f'Desde {desde} hasta {hasta} realizaron reviews {user_count} usuarios, el cual solo el {recommend_percent}% recomendo juegos'\n",
    "    else:\n",
    "        return 'No hay registros entre esas fechas'"
   ]
  },
  {
   "cell_type": "code",
   "execution_count": 15,
   "metadata": {},
   "outputs": [
    {
     "data": {
      "text/plain": [
       "'Desde 2011-11-25 hasta 2011-12-30 realizaron reviews 138 usuarios, el cual solo el 96.86% recomendo juegos'"
      ]
     },
     "execution_count": 15,
     "metadata": {},
     "output_type": "execute_result"
    }
   ],
   "source": [
    "countreviews('2011-11-25', '2011-12-30')"
   ]
  },
  {
   "cell_type": "markdown",
   "metadata": {},
   "source": [
    "# Función ***genre***\n",
    "\n",
    "Esta función tomo un parametro que es el género y se nos pide devolver el puesto en el que se encuentra el género sobre el ranking de los mismos analizados bajo la columna *PlayTimeForever*."
   ]
  },
  {
   "cell_type": "markdown",
   "metadata": {},
   "source": [
    "Para esta función vamos a necesitar:\n",
    "* genres: Género del juego\n",
    "* playtime_total: Tiempo total jugado.\n",
    "* ranking : Ranking segun el tiempo total de juego."
   ]
  },
  {
   "cell_type": "markdown",
   "metadata": {},
   "source": [
    "Vamos a seleccionar las columnas que necesitaremos"
   ]
  },
  {
   "cell_type": "code",
   "execution_count": 3,
   "metadata": {},
   "outputs": [],
   "source": [
    "df_function_3 = items[['genres','playtime_forever']]"
   ]
  },
  {
   "cell_type": "code",
   "execution_count": 4,
   "metadata": {},
   "outputs": [
    {
     "data": {
      "text/html": [
       "<div>\n",
       "<style scoped>\n",
       "    .dataframe tbody tr th:only-of-type {\n",
       "        vertical-align: middle;\n",
       "    }\n",
       "\n",
       "    .dataframe tbody tr th {\n",
       "        vertical-align: top;\n",
       "    }\n",
       "\n",
       "    .dataframe thead th {\n",
       "        text-align: right;\n",
       "    }\n",
       "</style>\n",
       "<table border=\"1\" class=\"dataframe\">\n",
       "  <thead>\n",
       "    <tr style=\"text-align: right;\">\n",
       "      <th></th>\n",
       "      <th>genres</th>\n",
       "      <th>playtime_forever</th>\n",
       "    </tr>\n",
       "  </thead>\n",
       "  <tbody>\n",
       "    <tr>\n",
       "      <th>0</th>\n",
       "      <td>Action</td>\n",
       "      <td>6</td>\n",
       "    </tr>\n",
       "    <tr>\n",
       "      <th>1</th>\n",
       "      <td>Action</td>\n",
       "      <td>0</td>\n",
       "    </tr>\n",
       "    <tr>\n",
       "      <th>2</th>\n",
       "      <td>Action</td>\n",
       "      <td>7</td>\n",
       "    </tr>\n",
       "    <tr>\n",
       "      <th>3</th>\n",
       "      <td>Action</td>\n",
       "      <td>0</td>\n",
       "    </tr>\n",
       "    <tr>\n",
       "      <th>4</th>\n",
       "      <td>Action</td>\n",
       "      <td>0</td>\n",
       "    </tr>\n",
       "  </tbody>\n",
       "</table>\n",
       "</div>"
      ],
      "text/plain": [
       "   genres  playtime_forever\n",
       "0  Action                 6\n",
       "1  Action                 0\n",
       "2  Action                 7\n",
       "3  Action                 0\n",
       "4  Action                 0"
      ]
     },
     "execution_count": 4,
     "metadata": {},
     "output_type": "execute_result"
    }
   ],
   "source": [
    "df_function_3.head()"
   ]
  },
  {
   "cell_type": "markdown",
   "metadata": {},
   "source": [
    "Ahora agrupamos por género y sumamos la cantidad de tiempo de juego."
   ]
  },
  {
   "cell_type": "code",
   "execution_count": 5,
   "metadata": {},
   "outputs": [],
   "source": [
    "df_function_3 = df_function_3.groupby('genres')['playtime_forever'].sum().reset_index()"
   ]
  },
  {
   "cell_type": "code",
   "execution_count": 6,
   "metadata": {},
   "outputs": [
    {
     "data": {
      "text/html": [
       "<div>\n",
       "<style scoped>\n",
       "    .dataframe tbody tr th:only-of-type {\n",
       "        vertical-align: middle;\n",
       "    }\n",
       "\n",
       "    .dataframe tbody tr th {\n",
       "        vertical-align: top;\n",
       "    }\n",
       "\n",
       "    .dataframe thead th {\n",
       "        text-align: right;\n",
       "    }\n",
       "</style>\n",
       "<table border=\"1\" class=\"dataframe\">\n",
       "  <thead>\n",
       "    <tr style=\"text-align: right;\">\n",
       "      <th></th>\n",
       "      <th>genres</th>\n",
       "      <th>playtime_forever</th>\n",
       "    </tr>\n",
       "  </thead>\n",
       "  <tbody>\n",
       "    <tr>\n",
       "      <th>0</th>\n",
       "      <td>Action</td>\n",
       "      <td>3075100464</td>\n",
       "    </tr>\n",
       "    <tr>\n",
       "      <th>1</th>\n",
       "      <td>Adventure</td>\n",
       "      <td>898763639</td>\n",
       "    </tr>\n",
       "    <tr>\n",
       "      <th>2</th>\n",
       "      <td>Animation and Modeling</td>\n",
       "      <td>1994171</td>\n",
       "    </tr>\n",
       "    <tr>\n",
       "      <th>3</th>\n",
       "      <td>Audio Production</td>\n",
       "      <td>545201</td>\n",
       "    </tr>\n",
       "    <tr>\n",
       "      <th>4</th>\n",
       "      <td>Casual</td>\n",
       "      <td>249316634</td>\n",
       "    </tr>\n",
       "  </tbody>\n",
       "</table>\n",
       "</div>"
      ],
      "text/plain": [
       "                   genres  playtime_forever\n",
       "0                  Action        3075100464\n",
       "1               Adventure         898763639\n",
       "2  Animation and Modeling           1994171\n",
       "3        Audio Production            545201\n",
       "4                  Casual         249316634"
      ]
     },
     "execution_count": 6,
     "metadata": {},
     "output_type": "execute_result"
    }
   ],
   "source": [
    "df_function_3.head()"
   ]
  },
  {
   "cell_type": "markdown",
   "metadata": {},
   "source": [
    "Ordenamos de forma descendiente segun el tiempo total del juego."
   ]
  },
  {
   "cell_type": "code",
   "execution_count": 7,
   "metadata": {},
   "outputs": [],
   "source": [
    "df_function_3 = df_function_3.sort_values(by = 'playtime_forever', ascending = False)"
   ]
  },
  {
   "cell_type": "code",
   "execution_count": 8,
   "metadata": {},
   "outputs": [
    {
     "data": {
      "text/html": [
       "<div>\n",
       "<style scoped>\n",
       "    .dataframe tbody tr th:only-of-type {\n",
       "        vertical-align: middle;\n",
       "    }\n",
       "\n",
       "    .dataframe tbody tr th {\n",
       "        vertical-align: top;\n",
       "    }\n",
       "\n",
       "    .dataframe thead th {\n",
       "        text-align: right;\n",
       "    }\n",
       "</style>\n",
       "<table border=\"1\" class=\"dataframe\">\n",
       "  <thead>\n",
       "    <tr style=\"text-align: right;\">\n",
       "      <th></th>\n",
       "      <th>genres</th>\n",
       "      <th>playtime_forever</th>\n",
       "    </tr>\n",
       "  </thead>\n",
       "  <tbody>\n",
       "    <tr>\n",
       "      <th>0</th>\n",
       "      <td>Action</td>\n",
       "      <td>3075100464</td>\n",
       "    </tr>\n",
       "    <tr>\n",
       "      <th>9</th>\n",
       "      <td>Indie</td>\n",
       "      <td>1475473529</td>\n",
       "    </tr>\n",
       "    <tr>\n",
       "      <th>12</th>\n",
       "      <td>RPG</td>\n",
       "      <td>1027927921</td>\n",
       "    </tr>\n",
       "    <tr>\n",
       "      <th>1</th>\n",
       "      <td>Adventure</td>\n",
       "      <td>898763639</td>\n",
       "    </tr>\n",
       "    <tr>\n",
       "      <th>14</th>\n",
       "      <td>Simulation</td>\n",
       "      <td>855263068</td>\n",
       "    </tr>\n",
       "  </tbody>\n",
       "</table>\n",
       "</div>"
      ],
      "text/plain": [
       "        genres  playtime_forever\n",
       "0       Action        3075100464\n",
       "9        Indie        1475473529\n",
       "12         RPG        1027927921\n",
       "1    Adventure         898763639\n",
       "14  Simulation         855263068"
      ]
     },
     "execution_count": 8,
     "metadata": {},
     "output_type": "execute_result"
    }
   ],
   "source": [
    "df_function_3.head()"
   ]
  },
  {
   "cell_type": "markdown",
   "metadata": {},
   "source": [
    "Reiniciamos el índice del DataFrame"
   ]
  },
  {
   "cell_type": "code",
   "execution_count": 9,
   "metadata": {},
   "outputs": [],
   "source": [
    "df_function_3.reset_index(drop= True, inplace= True)"
   ]
  },
  {
   "cell_type": "markdown",
   "metadata": {},
   "source": [
    "Agregamos una columna que nos indique la posicion del ranking."
   ]
  },
  {
   "cell_type": "code",
   "execution_count": 10,
   "metadata": {},
   "outputs": [],
   "source": [
    "df_function_3['ranking'] = df_function_3['playtime_forever'].rank(ascending=False).astype(int)"
   ]
  },
  {
   "cell_type": "code",
   "execution_count": 11,
   "metadata": {},
   "outputs": [
    {
     "data": {
      "text/html": [
       "<div>\n",
       "<style scoped>\n",
       "    .dataframe tbody tr th:only-of-type {\n",
       "        vertical-align: middle;\n",
       "    }\n",
       "\n",
       "    .dataframe tbody tr th {\n",
       "        vertical-align: top;\n",
       "    }\n",
       "\n",
       "    .dataframe thead th {\n",
       "        text-align: right;\n",
       "    }\n",
       "</style>\n",
       "<table border=\"1\" class=\"dataframe\">\n",
       "  <thead>\n",
       "    <tr style=\"text-align: right;\">\n",
       "      <th></th>\n",
       "      <th>genres</th>\n",
       "      <th>playtime_forever</th>\n",
       "      <th>ranking</th>\n",
       "    </tr>\n",
       "  </thead>\n",
       "  <tbody>\n",
       "    <tr>\n",
       "      <th>0</th>\n",
       "      <td>Action</td>\n",
       "      <td>3075100464</td>\n",
       "      <td>1</td>\n",
       "    </tr>\n",
       "    <tr>\n",
       "      <th>1</th>\n",
       "      <td>Indie</td>\n",
       "      <td>1475473529</td>\n",
       "      <td>2</td>\n",
       "    </tr>\n",
       "    <tr>\n",
       "      <th>2</th>\n",
       "      <td>RPG</td>\n",
       "      <td>1027927921</td>\n",
       "      <td>3</td>\n",
       "    </tr>\n",
       "    <tr>\n",
       "      <th>3</th>\n",
       "      <td>Adventure</td>\n",
       "      <td>898763639</td>\n",
       "      <td>4</td>\n",
       "    </tr>\n",
       "    <tr>\n",
       "      <th>4</th>\n",
       "      <td>Simulation</td>\n",
       "      <td>855263068</td>\n",
       "      <td>5</td>\n",
       "    </tr>\n",
       "  </tbody>\n",
       "</table>\n",
       "</div>"
      ],
      "text/plain": [
       "       genres  playtime_forever  ranking\n",
       "0      Action        3075100464        1\n",
       "1       Indie        1475473529        2\n",
       "2         RPG        1027927921        3\n",
       "3   Adventure         898763639        4\n",
       "4  Simulation         855263068        5"
      ]
     },
     "execution_count": 11,
     "metadata": {},
     "output_type": "execute_result"
    }
   ],
   "source": [
    "df_function_3.head()"
   ]
  },
  {
   "cell_type": "markdown",
   "metadata": {},
   "source": [
    "Modificamos el nombre de la columna *'playtime_forever'*"
   ]
  },
  {
   "cell_type": "code",
   "execution_count": 12,
   "metadata": {},
   "outputs": [],
   "source": [
    "df_function_3.rename(columns={'playtime_forever': 'playtime_total'}, inplace=True)"
   ]
  },
  {
   "cell_type": "markdown",
   "metadata": {},
   "source": [
    "Guardamos el DataFrame en un archivo CSV"
   ]
  },
  {
   "cell_type": "code",
   "execution_count": 14,
   "metadata": {},
   "outputs": [],
   "source": [
    "df_function_3.to_csv('./dataset/Endpoints/endpoint_genre.csv',index= False)"
   ]
  },
  {
   "cell_type": "code",
   "execution_count": 67,
   "metadata": {},
   "outputs": [],
   "source": [
    "# Prueba de la funcón\n",
    "def genre(genero: str):\n",
    "    df = df_function_3[df_function_3['genres'] == genero]\n",
    "    \n",
    "    if not df.empty:\n",
    "        genre = df.iloc[0, 0]\n",
    "        ranking = df.iloc[0, 2]\n",
    "        return f'El género {genre} se encuentra en el puesto número {ranking} del ranking'\n",
    "    else:\n",
    "        return 'No se encuentran registros de ese género'\n"
   ]
  },
  {
   "cell_type": "code",
   "execution_count": 66,
   "metadata": {},
   "outputs": [
    {
     "data": {
      "text/plain": [
       "'El género Simulation se encuentra en el puesto número 5 del ranking'"
      ]
     },
     "execution_count": 66,
     "metadata": {},
     "output_type": "execute_result"
    }
   ],
   "source": [
    "genre('Simulation')"
   ]
  },
  {
   "cell_type": "markdown",
   "metadata": {},
   "source": [
    "# Función ***userforgenre***\n",
    "\n",
    "Esta función toma un parámetro que es el género y se nos pide devolver el **TOP 5** de usuarios con mas horas de juego en el género dato, con su **URL(del usuario)** y **user_id**."
   ]
  },
  {
   "cell_type": "markdown",
   "metadata": {},
   "source": [
    "Para esta función vamos a necesitar:\n",
    "* genres: Género del juego.\n",
    "* user_id: ID del usuario.\n",
    "* user_url: URL del usuario.\n",
    "* playtime_total: Tiempo total jugado. "
   ]
  },
  {
   "cell_type": "markdown",
   "metadata": {},
   "source": [
    "Seleccionamos las columnas necesarias"
   ]
  },
  {
   "cell_type": "code",
   "execution_count": 15,
   "metadata": {},
   "outputs": [],
   "source": [
    "items_3 = items[['user_id','genres','playtime_forever']]\n",
    "users_3 = users[['user_id','user_url']]"
   ]
  },
  {
   "cell_type": "markdown",
   "metadata": {},
   "source": [
    "Unimos los DataFrames para obtener el *'user_url'*"
   ]
  },
  {
   "cell_type": "code",
   "execution_count": 16,
   "metadata": {},
   "outputs": [],
   "source": [
    "df_function_4 = items_3.merge(users_3, on= 'user_id', how= 'left')"
   ]
  },
  {
   "cell_type": "code",
   "execution_count": 17,
   "metadata": {},
   "outputs": [
    {
     "data": {
      "text/html": [
       "<div>\n",
       "<style scoped>\n",
       "    .dataframe tbody tr th:only-of-type {\n",
       "        vertical-align: middle;\n",
       "    }\n",
       "\n",
       "    .dataframe tbody tr th {\n",
       "        vertical-align: top;\n",
       "    }\n",
       "\n",
       "    .dataframe thead th {\n",
       "        text-align: right;\n",
       "    }\n",
       "</style>\n",
       "<table border=\"1\" class=\"dataframe\">\n",
       "  <thead>\n",
       "    <tr style=\"text-align: right;\">\n",
       "      <th></th>\n",
       "      <th>user_id</th>\n",
       "      <th>genres</th>\n",
       "      <th>playtime_forever</th>\n",
       "      <th>user_url</th>\n",
       "    </tr>\n",
       "  </thead>\n",
       "  <tbody>\n",
       "    <tr>\n",
       "      <th>0</th>\n",
       "      <td>76561197970982479</td>\n",
       "      <td>Action</td>\n",
       "      <td>6</td>\n",
       "      <td>http://steamcommunity.com/profiles/76561197970...</td>\n",
       "    </tr>\n",
       "    <tr>\n",
       "      <th>1</th>\n",
       "      <td>76561197970982479</td>\n",
       "      <td>Action</td>\n",
       "      <td>0</td>\n",
       "      <td>http://steamcommunity.com/profiles/76561197970...</td>\n",
       "    </tr>\n",
       "    <tr>\n",
       "      <th>2</th>\n",
       "      <td>76561197970982479</td>\n",
       "      <td>Action</td>\n",
       "      <td>7</td>\n",
       "      <td>http://steamcommunity.com/profiles/76561197970...</td>\n",
       "    </tr>\n",
       "    <tr>\n",
       "      <th>3</th>\n",
       "      <td>76561197970982479</td>\n",
       "      <td>Action</td>\n",
       "      <td>0</td>\n",
       "      <td>http://steamcommunity.com/profiles/76561197970...</td>\n",
       "    </tr>\n",
       "    <tr>\n",
       "      <th>4</th>\n",
       "      <td>76561197970982479</td>\n",
       "      <td>Action</td>\n",
       "      <td>0</td>\n",
       "      <td>http://steamcommunity.com/profiles/76561197970...</td>\n",
       "    </tr>\n",
       "  </tbody>\n",
       "</table>\n",
       "</div>"
      ],
      "text/plain": [
       "             user_id  genres  playtime_forever   \n",
       "0  76561197970982479  Action                 6  \\\n",
       "1  76561197970982479  Action                 0   \n",
       "2  76561197970982479  Action                 7   \n",
       "3  76561197970982479  Action                 0   \n",
       "4  76561197970982479  Action                 0   \n",
       "\n",
       "                                            user_url  \n",
       "0  http://steamcommunity.com/profiles/76561197970...  \n",
       "1  http://steamcommunity.com/profiles/76561197970...  \n",
       "2  http://steamcommunity.com/profiles/76561197970...  \n",
       "3  http://steamcommunity.com/profiles/76561197970...  \n",
       "4  http://steamcommunity.com/profiles/76561197970...  "
      ]
     },
     "execution_count": 17,
     "metadata": {},
     "output_type": "execute_result"
    }
   ],
   "source": [
    "df_function_4.head()"
   ]
  },
  {
   "cell_type": "markdown",
   "metadata": {},
   "source": [
    "Agrupamos por las columnas *'genres'*, *'user_id'* y *'user_url'* y sumamos el tiempo total jugado."
   ]
  },
  {
   "cell_type": "code",
   "execution_count": 18,
   "metadata": {},
   "outputs": [],
   "source": [
    "df_function_4 = df_function_4.groupby(['genres','user_id','user_url'])['playtime_forever'].sum().reset_index()"
   ]
  },
  {
   "cell_type": "code",
   "execution_count": 19,
   "metadata": {},
   "outputs": [
    {
     "data": {
      "text/html": [
       "<div>\n",
       "<style scoped>\n",
       "    .dataframe tbody tr th:only-of-type {\n",
       "        vertical-align: middle;\n",
       "    }\n",
       "\n",
       "    .dataframe tbody tr th {\n",
       "        vertical-align: top;\n",
       "    }\n",
       "\n",
       "    .dataframe thead th {\n",
       "        text-align: right;\n",
       "    }\n",
       "</style>\n",
       "<table border=\"1\" class=\"dataframe\">\n",
       "  <thead>\n",
       "    <tr style=\"text-align: right;\">\n",
       "      <th></th>\n",
       "      <th>genres</th>\n",
       "      <th>user_id</th>\n",
       "      <th>user_url</th>\n",
       "      <th>playtime_forever</th>\n",
       "    </tr>\n",
       "  </thead>\n",
       "  <tbody>\n",
       "    <tr>\n",
       "      <th>0</th>\n",
       "      <td>Action</td>\n",
       "      <td>--000--</td>\n",
       "      <td>http://steamcommunity.com/id/--000--</td>\n",
       "      <td>139469</td>\n",
       "    </tr>\n",
       "    <tr>\n",
       "      <th>1</th>\n",
       "      <td>Action</td>\n",
       "      <td>--ace--</td>\n",
       "      <td>http://steamcommunity.com/id/--ace--</td>\n",
       "      <td>69325</td>\n",
       "    </tr>\n",
       "    <tr>\n",
       "      <th>2</th>\n",
       "      <td>Action</td>\n",
       "      <td>--ionex--</td>\n",
       "      <td>http://steamcommunity.com/id/--ionex--</td>\n",
       "      <td>38315</td>\n",
       "    </tr>\n",
       "    <tr>\n",
       "      <th>3</th>\n",
       "      <td>Action</td>\n",
       "      <td>-2SV-vuLB-Kg</td>\n",
       "      <td>http://steamcommunity.com/id/-2SV-vuLB-Kg</td>\n",
       "      <td>42500</td>\n",
       "    </tr>\n",
       "    <tr>\n",
       "      <th>4</th>\n",
       "      <td>Action</td>\n",
       "      <td>-404PageNotFound-</td>\n",
       "      <td>http://steamcommunity.com/id/-404PageNotFound-</td>\n",
       "      <td>117423</td>\n",
       "    </tr>\n",
       "    <tr>\n",
       "      <th>5</th>\n",
       "      <td>Action</td>\n",
       "      <td>-AnimeIsMyThing-</td>\n",
       "      <td>http://steamcommunity.com/id/-AnimeIsMyThing-</td>\n",
       "      <td>166589</td>\n",
       "    </tr>\n",
       "    <tr>\n",
       "      <th>6</th>\n",
       "      <td>Action</td>\n",
       "      <td>-Azsael-</td>\n",
       "      <td>http://steamcommunity.com/id/-Azsael-</td>\n",
       "      <td>154523</td>\n",
       "    </tr>\n",
       "    <tr>\n",
       "      <th>7</th>\n",
       "      <td>Action</td>\n",
       "      <td>-Beave-</td>\n",
       "      <td>http://steamcommunity.com/id/-Beave-</td>\n",
       "      <td>34325</td>\n",
       "    </tr>\n",
       "    <tr>\n",
       "      <th>8</th>\n",
       "      <td>Action</td>\n",
       "      <td>-Encore-</td>\n",
       "      <td>http://steamcommunity.com/id/-Encore-</td>\n",
       "      <td>26357</td>\n",
       "    </tr>\n",
       "    <tr>\n",
       "      <th>9</th>\n",
       "      <td>Action</td>\n",
       "      <td>-GM-Dragon</td>\n",
       "      <td>http://steamcommunity.com/id/-GM-Dragon</td>\n",
       "      <td>25690</td>\n",
       "    </tr>\n",
       "  </tbody>\n",
       "</table>\n",
       "</div>"
      ],
      "text/plain": [
       "   genres            user_id                                        user_url   \n",
       "0  Action            --000--            http://steamcommunity.com/id/--000--  \\\n",
       "1  Action            --ace--            http://steamcommunity.com/id/--ace--   \n",
       "2  Action          --ionex--          http://steamcommunity.com/id/--ionex--   \n",
       "3  Action       -2SV-vuLB-Kg       http://steamcommunity.com/id/-2SV-vuLB-Kg   \n",
       "4  Action  -404PageNotFound-  http://steamcommunity.com/id/-404PageNotFound-   \n",
       "5  Action   -AnimeIsMyThing-   http://steamcommunity.com/id/-AnimeIsMyThing-   \n",
       "6  Action           -Azsael-           http://steamcommunity.com/id/-Azsael-   \n",
       "7  Action            -Beave-            http://steamcommunity.com/id/-Beave-   \n",
       "8  Action           -Encore-           http://steamcommunity.com/id/-Encore-   \n",
       "9  Action         -GM-Dragon         http://steamcommunity.com/id/-GM-Dragon   \n",
       "\n",
       "   playtime_forever  \n",
       "0            139469  \n",
       "1             69325  \n",
       "2             38315  \n",
       "3             42500  \n",
       "4            117423  \n",
       "5            166589  \n",
       "6            154523  \n",
       "7             34325  \n",
       "8             26357  \n",
       "9             25690  "
      ]
     },
     "execution_count": 19,
     "metadata": {},
     "output_type": "execute_result"
    }
   ],
   "source": [
    "df_function_4.head(10)"
   ]
  },
  {
   "cell_type": "markdown",
   "metadata": {},
   "source": [
    "Ordenamos de manera descendente segun el tiempo total jugado y de manera ascendente segun el género."
   ]
  },
  {
   "cell_type": "code",
   "execution_count": 20,
   "metadata": {},
   "outputs": [],
   "source": [
    "df_function_4 = df_function_4.sort_values(by=['genres', 'playtime_forever'], ascending=[True, False])"
   ]
  },
  {
   "cell_type": "code",
   "execution_count": 21,
   "metadata": {},
   "outputs": [
    {
     "data": {
      "text/html": [
       "<div>\n",
       "<style scoped>\n",
       "    .dataframe tbody tr th:only-of-type {\n",
       "        vertical-align: middle;\n",
       "    }\n",
       "\n",
       "    .dataframe tbody tr th {\n",
       "        vertical-align: top;\n",
       "    }\n",
       "\n",
       "    .dataframe thead th {\n",
       "        text-align: right;\n",
       "    }\n",
       "</style>\n",
       "<table border=\"1\" class=\"dataframe\">\n",
       "  <thead>\n",
       "    <tr style=\"text-align: right;\">\n",
       "      <th></th>\n",
       "      <th>genres</th>\n",
       "      <th>user_id</th>\n",
       "      <th>user_url</th>\n",
       "      <th>playtime_forever</th>\n",
       "    </tr>\n",
       "  </thead>\n",
       "  <tbody>\n",
       "    <tr>\n",
       "      <th>50657</th>\n",
       "      <td>Action</td>\n",
       "      <td>Sp3ctre</td>\n",
       "      <td>http://steamcommunity.com/id/Sp3ctre</td>\n",
       "      <td>1699307</td>\n",
       "    </tr>\n",
       "    <tr>\n",
       "      <th>64497</th>\n",
       "      <td>Action</td>\n",
       "      <td>shinomegami</td>\n",
       "      <td>http://steamcommunity.com/id/shinomegami</td>\n",
       "      <td>1580428</td>\n",
       "    </tr>\n",
       "    <tr>\n",
       "      <th>49457</th>\n",
       "      <td>Action</td>\n",
       "      <td>REBAS_AS_F-T</td>\n",
       "      <td>http://steamcommunity.com/id/REBAS_AS_F-T</td>\n",
       "      <td>1456212</td>\n",
       "    </tr>\n",
       "    <tr>\n",
       "      <th>51237</th>\n",
       "      <td>Action</td>\n",
       "      <td>Terminally-Chill</td>\n",
       "      <td>http://steamcommunity.com/id/Terminally-Chill</td>\n",
       "      <td>1065742</td>\n",
       "    </tr>\n",
       "    <tr>\n",
       "      <th>44133</th>\n",
       "      <td>Action</td>\n",
       "      <td>DownSyndromeKid</td>\n",
       "      <td>http://steamcommunity.com/id/DownSyndromeKid</td>\n",
       "      <td>1061193</td>\n",
       "    </tr>\n",
       "    <tr>\n",
       "      <th>65224</th>\n",
       "      <td>Action</td>\n",
       "      <td>stopgovtcorruption</td>\n",
       "      <td>http://steamcommunity.com/id/stopgovtcorruption</td>\n",
       "      <td>1047411</td>\n",
       "    </tr>\n",
       "    <tr>\n",
       "      <th>43381</th>\n",
       "      <td>Action</td>\n",
       "      <td>Cow666</td>\n",
       "      <td>http://steamcommunity.com/id/Cow666</td>\n",
       "      <td>1031718</td>\n",
       "    </tr>\n",
       "    <tr>\n",
       "      <th>47167</th>\n",
       "      <td>Action</td>\n",
       "      <td>LapFucksTrax</td>\n",
       "      <td>http://steamcommunity.com/id/LapFucksTrax</td>\n",
       "      <td>885920</td>\n",
       "    </tr>\n",
       "    <tr>\n",
       "      <th>49143</th>\n",
       "      <td>Action</td>\n",
       "      <td>PiozZ</td>\n",
       "      <td>http://steamcommunity.com/id/PiozZ</td>\n",
       "      <td>874761</td>\n",
       "    </tr>\n",
       "    <tr>\n",
       "      <th>44213</th>\n",
       "      <td>Action</td>\n",
       "      <td>Drxoid</td>\n",
       "      <td>http://steamcommunity.com/id/Drxoid</td>\n",
       "      <td>806875</td>\n",
       "    </tr>\n",
       "  </tbody>\n",
       "</table>\n",
       "</div>"
      ],
      "text/plain": [
       "       genres             user_id   \n",
       "50657  Action             Sp3ctre  \\\n",
       "64497  Action         shinomegami   \n",
       "49457  Action        REBAS_AS_F-T   \n",
       "51237  Action    Terminally-Chill   \n",
       "44133  Action     DownSyndromeKid   \n",
       "65224  Action  stopgovtcorruption   \n",
       "43381  Action              Cow666   \n",
       "47167  Action        LapFucksTrax   \n",
       "49143  Action               PiozZ   \n",
       "44213  Action              Drxoid   \n",
       "\n",
       "                                              user_url  playtime_forever  \n",
       "50657             http://steamcommunity.com/id/Sp3ctre           1699307  \n",
       "64497         http://steamcommunity.com/id/shinomegami           1580428  \n",
       "49457        http://steamcommunity.com/id/REBAS_AS_F-T           1456212  \n",
       "51237    http://steamcommunity.com/id/Terminally-Chill           1065742  \n",
       "44133     http://steamcommunity.com/id/DownSyndromeKid           1061193  \n",
       "65224  http://steamcommunity.com/id/stopgovtcorruption           1047411  \n",
       "43381              http://steamcommunity.com/id/Cow666           1031718  \n",
       "47167        http://steamcommunity.com/id/LapFucksTrax            885920  \n",
       "49143               http://steamcommunity.com/id/PiozZ            874761  \n",
       "44213              http://steamcommunity.com/id/Drxoid            806875  "
      ]
     },
     "execution_count": 21,
     "metadata": {},
     "output_type": "execute_result"
    }
   ],
   "source": [
    "df_function_4.head(10)"
   ]
  },
  {
   "cell_type": "markdown",
   "metadata": {},
   "source": [
    "Reiniciamos el índice"
   ]
  },
  {
   "cell_type": "code",
   "execution_count": 22,
   "metadata": {},
   "outputs": [],
   "source": [
    "df_function_4.reset_index(drop=True, inplace=True)"
   ]
  },
  {
   "cell_type": "code",
   "execution_count": 23,
   "metadata": {},
   "outputs": [
    {
     "data": {
      "text/html": [
       "<div>\n",
       "<style scoped>\n",
       "    .dataframe tbody tr th:only-of-type {\n",
       "        vertical-align: middle;\n",
       "    }\n",
       "\n",
       "    .dataframe tbody tr th {\n",
       "        vertical-align: top;\n",
       "    }\n",
       "\n",
       "    .dataframe thead th {\n",
       "        text-align: right;\n",
       "    }\n",
       "</style>\n",
       "<table border=\"1\" class=\"dataframe\">\n",
       "  <thead>\n",
       "    <tr style=\"text-align: right;\">\n",
       "      <th></th>\n",
       "      <th>genres</th>\n",
       "      <th>user_id</th>\n",
       "      <th>user_url</th>\n",
       "      <th>playtime_forever</th>\n",
       "    </tr>\n",
       "  </thead>\n",
       "  <tbody>\n",
       "    <tr>\n",
       "      <th>0</th>\n",
       "      <td>Action</td>\n",
       "      <td>Sp3ctre</td>\n",
       "      <td>http://steamcommunity.com/id/Sp3ctre</td>\n",
       "      <td>1699307</td>\n",
       "    </tr>\n",
       "    <tr>\n",
       "      <th>1</th>\n",
       "      <td>Action</td>\n",
       "      <td>shinomegami</td>\n",
       "      <td>http://steamcommunity.com/id/shinomegami</td>\n",
       "      <td>1580428</td>\n",
       "    </tr>\n",
       "    <tr>\n",
       "      <th>2</th>\n",
       "      <td>Action</td>\n",
       "      <td>REBAS_AS_F-T</td>\n",
       "      <td>http://steamcommunity.com/id/REBAS_AS_F-T</td>\n",
       "      <td>1456212</td>\n",
       "    </tr>\n",
       "    <tr>\n",
       "      <th>3</th>\n",
       "      <td>Action</td>\n",
       "      <td>Terminally-Chill</td>\n",
       "      <td>http://steamcommunity.com/id/Terminally-Chill</td>\n",
       "      <td>1065742</td>\n",
       "    </tr>\n",
       "    <tr>\n",
       "      <th>4</th>\n",
       "      <td>Action</td>\n",
       "      <td>DownSyndromeKid</td>\n",
       "      <td>http://steamcommunity.com/id/DownSyndromeKid</td>\n",
       "      <td>1061193</td>\n",
       "    </tr>\n",
       "    <tr>\n",
       "      <th>5</th>\n",
       "      <td>Action</td>\n",
       "      <td>stopgovtcorruption</td>\n",
       "      <td>http://steamcommunity.com/id/stopgovtcorruption</td>\n",
       "      <td>1047411</td>\n",
       "    </tr>\n",
       "    <tr>\n",
       "      <th>6</th>\n",
       "      <td>Action</td>\n",
       "      <td>Cow666</td>\n",
       "      <td>http://steamcommunity.com/id/Cow666</td>\n",
       "      <td>1031718</td>\n",
       "    </tr>\n",
       "    <tr>\n",
       "      <th>7</th>\n",
       "      <td>Action</td>\n",
       "      <td>LapFucksTrax</td>\n",
       "      <td>http://steamcommunity.com/id/LapFucksTrax</td>\n",
       "      <td>885920</td>\n",
       "    </tr>\n",
       "    <tr>\n",
       "      <th>8</th>\n",
       "      <td>Action</td>\n",
       "      <td>PiozZ</td>\n",
       "      <td>http://steamcommunity.com/id/PiozZ</td>\n",
       "      <td>874761</td>\n",
       "    </tr>\n",
       "    <tr>\n",
       "      <th>9</th>\n",
       "      <td>Action</td>\n",
       "      <td>Drxoid</td>\n",
       "      <td>http://steamcommunity.com/id/Drxoid</td>\n",
       "      <td>806875</td>\n",
       "    </tr>\n",
       "  </tbody>\n",
       "</table>\n",
       "</div>"
      ],
      "text/plain": [
       "   genres             user_id   \n",
       "0  Action             Sp3ctre  \\\n",
       "1  Action         shinomegami   \n",
       "2  Action        REBAS_AS_F-T   \n",
       "3  Action    Terminally-Chill   \n",
       "4  Action     DownSyndromeKid   \n",
       "5  Action  stopgovtcorruption   \n",
       "6  Action              Cow666   \n",
       "7  Action        LapFucksTrax   \n",
       "8  Action               PiozZ   \n",
       "9  Action              Drxoid   \n",
       "\n",
       "                                          user_url  playtime_forever  \n",
       "0             http://steamcommunity.com/id/Sp3ctre           1699307  \n",
       "1         http://steamcommunity.com/id/shinomegami           1580428  \n",
       "2        http://steamcommunity.com/id/REBAS_AS_F-T           1456212  \n",
       "3    http://steamcommunity.com/id/Terminally-Chill           1065742  \n",
       "4     http://steamcommunity.com/id/DownSyndromeKid           1061193  \n",
       "5  http://steamcommunity.com/id/stopgovtcorruption           1047411  \n",
       "6              http://steamcommunity.com/id/Cow666           1031718  \n",
       "7        http://steamcommunity.com/id/LapFucksTrax            885920  \n",
       "8               http://steamcommunity.com/id/PiozZ            874761  \n",
       "9              http://steamcommunity.com/id/Drxoid            806875  "
      ]
     },
     "execution_count": 23,
     "metadata": {},
     "output_type": "execute_result"
    }
   ],
   "source": [
    "df_function_4.head(10)"
   ]
  },
  {
   "cell_type": "markdown",
   "metadata": {},
   "source": [
    "Ahora creamos una columna que nos indica la posicion del ranking por género."
   ]
  },
  {
   "cell_type": "code",
   "execution_count": 24,
   "metadata": {},
   "outputs": [],
   "source": [
    "df_function_4['ranking'] = df_function_4.groupby('genres').cumcount() + 1"
   ]
  },
  {
   "cell_type": "code",
   "execution_count": 25,
   "metadata": {},
   "outputs": [
    {
     "data": {
      "text/html": [
       "<div>\n",
       "<style scoped>\n",
       "    .dataframe tbody tr th:only-of-type {\n",
       "        vertical-align: middle;\n",
       "    }\n",
       "\n",
       "    .dataframe tbody tr th {\n",
       "        vertical-align: top;\n",
       "    }\n",
       "\n",
       "    .dataframe thead th {\n",
       "        text-align: right;\n",
       "    }\n",
       "</style>\n",
       "<table border=\"1\" class=\"dataframe\">\n",
       "  <thead>\n",
       "    <tr style=\"text-align: right;\">\n",
       "      <th></th>\n",
       "      <th>genres</th>\n",
       "      <th>user_id</th>\n",
       "      <th>user_url</th>\n",
       "      <th>playtime_forever</th>\n",
       "      <th>ranking</th>\n",
       "    </tr>\n",
       "  </thead>\n",
       "  <tbody>\n",
       "    <tr>\n",
       "      <th>0</th>\n",
       "      <td>Action</td>\n",
       "      <td>Sp3ctre</td>\n",
       "      <td>http://steamcommunity.com/id/Sp3ctre</td>\n",
       "      <td>1699307</td>\n",
       "      <td>1</td>\n",
       "    </tr>\n",
       "    <tr>\n",
       "      <th>1</th>\n",
       "      <td>Action</td>\n",
       "      <td>shinomegami</td>\n",
       "      <td>http://steamcommunity.com/id/shinomegami</td>\n",
       "      <td>1580428</td>\n",
       "      <td>2</td>\n",
       "    </tr>\n",
       "    <tr>\n",
       "      <th>2</th>\n",
       "      <td>Action</td>\n",
       "      <td>REBAS_AS_F-T</td>\n",
       "      <td>http://steamcommunity.com/id/REBAS_AS_F-T</td>\n",
       "      <td>1456212</td>\n",
       "      <td>3</td>\n",
       "    </tr>\n",
       "    <tr>\n",
       "      <th>3</th>\n",
       "      <td>Action</td>\n",
       "      <td>Terminally-Chill</td>\n",
       "      <td>http://steamcommunity.com/id/Terminally-Chill</td>\n",
       "      <td>1065742</td>\n",
       "      <td>4</td>\n",
       "    </tr>\n",
       "    <tr>\n",
       "      <th>4</th>\n",
       "      <td>Action</td>\n",
       "      <td>DownSyndromeKid</td>\n",
       "      <td>http://steamcommunity.com/id/DownSyndromeKid</td>\n",
       "      <td>1061193</td>\n",
       "      <td>5</td>\n",
       "    </tr>\n",
       "    <tr>\n",
       "      <th>5</th>\n",
       "      <td>Action</td>\n",
       "      <td>stopgovtcorruption</td>\n",
       "      <td>http://steamcommunity.com/id/stopgovtcorruption</td>\n",
       "      <td>1047411</td>\n",
       "      <td>6</td>\n",
       "    </tr>\n",
       "    <tr>\n",
       "      <th>6</th>\n",
       "      <td>Action</td>\n",
       "      <td>Cow666</td>\n",
       "      <td>http://steamcommunity.com/id/Cow666</td>\n",
       "      <td>1031718</td>\n",
       "      <td>7</td>\n",
       "    </tr>\n",
       "    <tr>\n",
       "      <th>7</th>\n",
       "      <td>Action</td>\n",
       "      <td>LapFucksTrax</td>\n",
       "      <td>http://steamcommunity.com/id/LapFucksTrax</td>\n",
       "      <td>885920</td>\n",
       "      <td>8</td>\n",
       "    </tr>\n",
       "    <tr>\n",
       "      <th>8</th>\n",
       "      <td>Action</td>\n",
       "      <td>PiozZ</td>\n",
       "      <td>http://steamcommunity.com/id/PiozZ</td>\n",
       "      <td>874761</td>\n",
       "      <td>9</td>\n",
       "    </tr>\n",
       "    <tr>\n",
       "      <th>9</th>\n",
       "      <td>Action</td>\n",
       "      <td>Drxoid</td>\n",
       "      <td>http://steamcommunity.com/id/Drxoid</td>\n",
       "      <td>806875</td>\n",
       "      <td>10</td>\n",
       "    </tr>\n",
       "  </tbody>\n",
       "</table>\n",
       "</div>"
      ],
      "text/plain": [
       "   genres             user_id   \n",
       "0  Action             Sp3ctre  \\\n",
       "1  Action         shinomegami   \n",
       "2  Action        REBAS_AS_F-T   \n",
       "3  Action    Terminally-Chill   \n",
       "4  Action     DownSyndromeKid   \n",
       "5  Action  stopgovtcorruption   \n",
       "6  Action              Cow666   \n",
       "7  Action        LapFucksTrax   \n",
       "8  Action               PiozZ   \n",
       "9  Action              Drxoid   \n",
       "\n",
       "                                          user_url  playtime_forever  ranking  \n",
       "0             http://steamcommunity.com/id/Sp3ctre           1699307        1  \n",
       "1         http://steamcommunity.com/id/shinomegami           1580428        2  \n",
       "2        http://steamcommunity.com/id/REBAS_AS_F-T           1456212        3  \n",
       "3    http://steamcommunity.com/id/Terminally-Chill           1065742        4  \n",
       "4     http://steamcommunity.com/id/DownSyndromeKid           1061193        5  \n",
       "5  http://steamcommunity.com/id/stopgovtcorruption           1047411        6  \n",
       "6              http://steamcommunity.com/id/Cow666           1031718        7  \n",
       "7        http://steamcommunity.com/id/LapFucksTrax            885920        8  \n",
       "8               http://steamcommunity.com/id/PiozZ            874761        9  \n",
       "9              http://steamcommunity.com/id/Drxoid            806875       10  "
      ]
     },
     "execution_count": 25,
     "metadata": {},
     "output_type": "execute_result"
    }
   ],
   "source": [
    "df_function_4.head(10)"
   ]
  },
  {
   "cell_type": "markdown",
   "metadata": {},
   "source": [
    "Agrupamos el DataFrame por género y tomamos solo los primeros 5 registros por cada género"
   ]
  },
  {
   "cell_type": "code",
   "execution_count": 26,
   "metadata": {},
   "outputs": [],
   "source": [
    "df_function_4['top5_users'] = df_function_4.groupby('genres')['user_id'].head(5)"
   ]
  },
  {
   "cell_type": "code",
   "execution_count": 27,
   "metadata": {},
   "outputs": [
    {
     "data": {
      "text/html": [
       "<div>\n",
       "<style scoped>\n",
       "    .dataframe tbody tr th:only-of-type {\n",
       "        vertical-align: middle;\n",
       "    }\n",
       "\n",
       "    .dataframe tbody tr th {\n",
       "        vertical-align: top;\n",
       "    }\n",
       "\n",
       "    .dataframe thead th {\n",
       "        text-align: right;\n",
       "    }\n",
       "</style>\n",
       "<table border=\"1\" class=\"dataframe\">\n",
       "  <thead>\n",
       "    <tr style=\"text-align: right;\">\n",
       "      <th></th>\n",
       "      <th>genres</th>\n",
       "      <th>user_id</th>\n",
       "      <th>user_url</th>\n",
       "      <th>playtime_forever</th>\n",
       "      <th>ranking</th>\n",
       "      <th>top5_users</th>\n",
       "    </tr>\n",
       "  </thead>\n",
       "  <tbody>\n",
       "    <tr>\n",
       "      <th>0</th>\n",
       "      <td>Action</td>\n",
       "      <td>Sp3ctre</td>\n",
       "      <td>http://steamcommunity.com/id/Sp3ctre</td>\n",
       "      <td>1699307</td>\n",
       "      <td>1</td>\n",
       "      <td>Sp3ctre</td>\n",
       "    </tr>\n",
       "    <tr>\n",
       "      <th>1</th>\n",
       "      <td>Action</td>\n",
       "      <td>shinomegami</td>\n",
       "      <td>http://steamcommunity.com/id/shinomegami</td>\n",
       "      <td>1580428</td>\n",
       "      <td>2</td>\n",
       "      <td>shinomegami</td>\n",
       "    </tr>\n",
       "    <tr>\n",
       "      <th>2</th>\n",
       "      <td>Action</td>\n",
       "      <td>REBAS_AS_F-T</td>\n",
       "      <td>http://steamcommunity.com/id/REBAS_AS_F-T</td>\n",
       "      <td>1456212</td>\n",
       "      <td>3</td>\n",
       "      <td>REBAS_AS_F-T</td>\n",
       "    </tr>\n",
       "    <tr>\n",
       "      <th>3</th>\n",
       "      <td>Action</td>\n",
       "      <td>Terminally-Chill</td>\n",
       "      <td>http://steamcommunity.com/id/Terminally-Chill</td>\n",
       "      <td>1065742</td>\n",
       "      <td>4</td>\n",
       "      <td>Terminally-Chill</td>\n",
       "    </tr>\n",
       "    <tr>\n",
       "      <th>4</th>\n",
       "      <td>Action</td>\n",
       "      <td>DownSyndromeKid</td>\n",
       "      <td>http://steamcommunity.com/id/DownSyndromeKid</td>\n",
       "      <td>1061193</td>\n",
       "      <td>5</td>\n",
       "      <td>DownSyndromeKid</td>\n",
       "    </tr>\n",
       "    <tr>\n",
       "      <th>5</th>\n",
       "      <td>Action</td>\n",
       "      <td>stopgovtcorruption</td>\n",
       "      <td>http://steamcommunity.com/id/stopgovtcorruption</td>\n",
       "      <td>1047411</td>\n",
       "      <td>6</td>\n",
       "      <td>NaN</td>\n",
       "    </tr>\n",
       "    <tr>\n",
       "      <th>6</th>\n",
       "      <td>Action</td>\n",
       "      <td>Cow666</td>\n",
       "      <td>http://steamcommunity.com/id/Cow666</td>\n",
       "      <td>1031718</td>\n",
       "      <td>7</td>\n",
       "      <td>NaN</td>\n",
       "    </tr>\n",
       "    <tr>\n",
       "      <th>7</th>\n",
       "      <td>Action</td>\n",
       "      <td>LapFucksTrax</td>\n",
       "      <td>http://steamcommunity.com/id/LapFucksTrax</td>\n",
       "      <td>885920</td>\n",
       "      <td>8</td>\n",
       "      <td>NaN</td>\n",
       "    </tr>\n",
       "    <tr>\n",
       "      <th>8</th>\n",
       "      <td>Action</td>\n",
       "      <td>PiozZ</td>\n",
       "      <td>http://steamcommunity.com/id/PiozZ</td>\n",
       "      <td>874761</td>\n",
       "      <td>9</td>\n",
       "      <td>NaN</td>\n",
       "    </tr>\n",
       "    <tr>\n",
       "      <th>9</th>\n",
       "      <td>Action</td>\n",
       "      <td>Drxoid</td>\n",
       "      <td>http://steamcommunity.com/id/Drxoid</td>\n",
       "      <td>806875</td>\n",
       "      <td>10</td>\n",
       "      <td>NaN</td>\n",
       "    </tr>\n",
       "  </tbody>\n",
       "</table>\n",
       "</div>"
      ],
      "text/plain": [
       "   genres             user_id   \n",
       "0  Action             Sp3ctre  \\\n",
       "1  Action         shinomegami   \n",
       "2  Action        REBAS_AS_F-T   \n",
       "3  Action    Terminally-Chill   \n",
       "4  Action     DownSyndromeKid   \n",
       "5  Action  stopgovtcorruption   \n",
       "6  Action              Cow666   \n",
       "7  Action        LapFucksTrax   \n",
       "8  Action               PiozZ   \n",
       "9  Action              Drxoid   \n",
       "\n",
       "                                          user_url  playtime_forever  ranking   \n",
       "0             http://steamcommunity.com/id/Sp3ctre           1699307        1  \\\n",
       "1         http://steamcommunity.com/id/shinomegami           1580428        2   \n",
       "2        http://steamcommunity.com/id/REBAS_AS_F-T           1456212        3   \n",
       "3    http://steamcommunity.com/id/Terminally-Chill           1065742        4   \n",
       "4     http://steamcommunity.com/id/DownSyndromeKid           1061193        5   \n",
       "5  http://steamcommunity.com/id/stopgovtcorruption           1047411        6   \n",
       "6              http://steamcommunity.com/id/Cow666           1031718        7   \n",
       "7        http://steamcommunity.com/id/LapFucksTrax            885920        8   \n",
       "8               http://steamcommunity.com/id/PiozZ            874761        9   \n",
       "9              http://steamcommunity.com/id/Drxoid            806875       10   \n",
       "\n",
       "         top5_users  \n",
       "0           Sp3ctre  \n",
       "1       shinomegami  \n",
       "2      REBAS_AS_F-T  \n",
       "3  Terminally-Chill  \n",
       "4   DownSyndromeKid  \n",
       "5               NaN  \n",
       "6               NaN  \n",
       "7               NaN  \n",
       "8               NaN  \n",
       "9               NaN  "
      ]
     },
     "execution_count": 27,
     "metadata": {},
     "output_type": "execute_result"
    }
   ],
   "source": [
    "df_function_4.head(10)"
   ]
  },
  {
   "cell_type": "markdown",
   "metadata": {},
   "source": [
    "Eliminamos los registros vacios de la columna *'top5_users'*"
   ]
  },
  {
   "cell_type": "code",
   "execution_count": 28,
   "metadata": {},
   "outputs": [],
   "source": [
    "df_function_4.dropna(subset='top5_users',inplace=True)"
   ]
  },
  {
   "cell_type": "markdown",
   "metadata": {},
   "source": [
    "Reiniciamos el índice"
   ]
  },
  {
   "cell_type": "code",
   "execution_count": 30,
   "metadata": {},
   "outputs": [],
   "source": [
    "df_function_4.reset_index(drop=True, inplace=True)"
   ]
  },
  {
   "cell_type": "code",
   "execution_count": 31,
   "metadata": {},
   "outputs": [
    {
     "data": {
      "text/html": [
       "<div>\n",
       "<style scoped>\n",
       "    .dataframe tbody tr th:only-of-type {\n",
       "        vertical-align: middle;\n",
       "    }\n",
       "\n",
       "    .dataframe tbody tr th {\n",
       "        vertical-align: top;\n",
       "    }\n",
       "\n",
       "    .dataframe thead th {\n",
       "        text-align: right;\n",
       "    }\n",
       "</style>\n",
       "<table border=\"1\" class=\"dataframe\">\n",
       "  <thead>\n",
       "    <tr style=\"text-align: right;\">\n",
       "      <th></th>\n",
       "      <th>genres</th>\n",
       "      <th>user_id</th>\n",
       "      <th>user_url</th>\n",
       "      <th>playtime_forever</th>\n",
       "      <th>ranking</th>\n",
       "      <th>top5_users</th>\n",
       "    </tr>\n",
       "  </thead>\n",
       "  <tbody>\n",
       "    <tr>\n",
       "      <th>0</th>\n",
       "      <td>Action</td>\n",
       "      <td>Sp3ctre</td>\n",
       "      <td>http://steamcommunity.com/id/Sp3ctre</td>\n",
       "      <td>1699307</td>\n",
       "      <td>1</td>\n",
       "      <td>Sp3ctre</td>\n",
       "    </tr>\n",
       "    <tr>\n",
       "      <th>1</th>\n",
       "      <td>Action</td>\n",
       "      <td>shinomegami</td>\n",
       "      <td>http://steamcommunity.com/id/shinomegami</td>\n",
       "      <td>1580428</td>\n",
       "      <td>2</td>\n",
       "      <td>shinomegami</td>\n",
       "    </tr>\n",
       "    <tr>\n",
       "      <th>2</th>\n",
       "      <td>Action</td>\n",
       "      <td>REBAS_AS_F-T</td>\n",
       "      <td>http://steamcommunity.com/id/REBAS_AS_F-T</td>\n",
       "      <td>1456212</td>\n",
       "      <td>3</td>\n",
       "      <td>REBAS_AS_F-T</td>\n",
       "    </tr>\n",
       "    <tr>\n",
       "      <th>3</th>\n",
       "      <td>Action</td>\n",
       "      <td>Terminally-Chill</td>\n",
       "      <td>http://steamcommunity.com/id/Terminally-Chill</td>\n",
       "      <td>1065742</td>\n",
       "      <td>4</td>\n",
       "      <td>Terminally-Chill</td>\n",
       "    </tr>\n",
       "    <tr>\n",
       "      <th>4</th>\n",
       "      <td>Action</td>\n",
       "      <td>DownSyndromeKid</td>\n",
       "      <td>http://steamcommunity.com/id/DownSyndromeKid</td>\n",
       "      <td>1061193</td>\n",
       "      <td>5</td>\n",
       "      <td>DownSyndromeKid</td>\n",
       "    </tr>\n",
       "    <tr>\n",
       "      <th>5</th>\n",
       "      <td>Adventure</td>\n",
       "      <td>REBAS_AS_F-T</td>\n",
       "      <td>http://steamcommunity.com/id/REBAS_AS_F-T</td>\n",
       "      <td>2191551</td>\n",
       "      <td>1</td>\n",
       "      <td>REBAS_AS_F-T</td>\n",
       "    </tr>\n",
       "    <tr>\n",
       "      <th>6</th>\n",
       "      <td>Adventure</td>\n",
       "      <td>shinomegami</td>\n",
       "      <td>http://steamcommunity.com/id/shinomegami</td>\n",
       "      <td>767160</td>\n",
       "      <td>2</td>\n",
       "      <td>shinomegami</td>\n",
       "    </tr>\n",
       "    <tr>\n",
       "      <th>7</th>\n",
       "      <td>Adventure</td>\n",
       "      <td>Evilutional</td>\n",
       "      <td>http://steamcommunity.com/id/Evilutional</td>\n",
       "      <td>662103</td>\n",
       "      <td>3</td>\n",
       "      <td>Evilutional</td>\n",
       "    </tr>\n",
       "    <tr>\n",
       "      <th>8</th>\n",
       "      <td>Adventure</td>\n",
       "      <td>Sp3ctre</td>\n",
       "      <td>http://steamcommunity.com/id/Sp3ctre</td>\n",
       "      <td>654378</td>\n",
       "      <td>4</td>\n",
       "      <td>Sp3ctre</td>\n",
       "    </tr>\n",
       "    <tr>\n",
       "      <th>9</th>\n",
       "      <td>Adventure</td>\n",
       "      <td>tobscene</td>\n",
       "      <td>http://steamcommunity.com/id/tobscene</td>\n",
       "      <td>640783</td>\n",
       "      <td>5</td>\n",
       "      <td>tobscene</td>\n",
       "    </tr>\n",
       "  </tbody>\n",
       "</table>\n",
       "</div>"
      ],
      "text/plain": [
       "      genres           user_id                                       user_url   \n",
       "0     Action           Sp3ctre           http://steamcommunity.com/id/Sp3ctre  \\\n",
       "1     Action       shinomegami       http://steamcommunity.com/id/shinomegami   \n",
       "2     Action      REBAS_AS_F-T      http://steamcommunity.com/id/REBAS_AS_F-T   \n",
       "3     Action  Terminally-Chill  http://steamcommunity.com/id/Terminally-Chill   \n",
       "4     Action   DownSyndromeKid   http://steamcommunity.com/id/DownSyndromeKid   \n",
       "5  Adventure      REBAS_AS_F-T      http://steamcommunity.com/id/REBAS_AS_F-T   \n",
       "6  Adventure       shinomegami       http://steamcommunity.com/id/shinomegami   \n",
       "7  Adventure       Evilutional       http://steamcommunity.com/id/Evilutional   \n",
       "8  Adventure           Sp3ctre           http://steamcommunity.com/id/Sp3ctre   \n",
       "9  Adventure          tobscene          http://steamcommunity.com/id/tobscene   \n",
       "\n",
       "   playtime_forever  ranking        top5_users  \n",
       "0           1699307        1           Sp3ctre  \n",
       "1           1580428        2       shinomegami  \n",
       "2           1456212        3      REBAS_AS_F-T  \n",
       "3           1065742        4  Terminally-Chill  \n",
       "4           1061193        5   DownSyndromeKid  \n",
       "5           2191551        1      REBAS_AS_F-T  \n",
       "6            767160        2       shinomegami  \n",
       "7            662103        3       Evilutional  \n",
       "8            654378        4           Sp3ctre  \n",
       "9            640783        5          tobscene  "
      ]
     },
     "execution_count": 31,
     "metadata": {},
     "output_type": "execute_result"
    }
   ],
   "source": [
    "df_function_4.head(10)"
   ]
  },
  {
   "cell_type": "markdown",
   "metadata": {},
   "source": [
    "Eliminamos la columna *'playtime_forever'*"
   ]
  },
  {
   "cell_type": "code",
   "execution_count": 33,
   "metadata": {},
   "outputs": [],
   "source": [
    "df_function_4.drop(columns='playtime_forever',inplace= True)"
   ]
  },
  {
   "cell_type": "markdown",
   "metadata": {},
   "source": [
    "Guardamos el DataFrame en un archivo CSV"
   ]
  },
  {
   "cell_type": "code",
   "execution_count": 35,
   "metadata": {},
   "outputs": [],
   "source": [
    "df_function_4.to_csv('./dataset/Endpoints/endpoint_userforgenre.csv', index= False)"
   ]
  },
  {
   "cell_type": "code",
   "execution_count": 36,
   "metadata": {},
   "outputs": [],
   "source": [
    "def userforgenre(genero: str):\n",
    "    if genero in df_function_4['genres'].unique():\n",
    "        df = df_function_4[df_function_4['genres'] == genero]\n",
    "\n",
    "        ranking = [f'Nro {i + 1}' for i in range(len(df))]\n",
    "\n",
    "        users_info = [\n",
    "            f'Usuario: {user_id} | URL del usuario: {url_user}'\n",
    "            for user_id, url_user in zip(df['user_id'], df['user_url'])\n",
    "        ]\n",
    "\n",
    "        return dict(zip(ranking, users_info))\n",
    "    else:\n",
    "        return 'No hay registros con ese género'\n"
   ]
  },
  {
   "cell_type": "code",
   "execution_count": 37,
   "metadata": {},
   "outputs": [
    {
     "data": {
      "text/plain": [
       "{'Nro 1': 'Usuario: Sp3ctre | URL del usuario: http://steamcommunity.com/id/Sp3ctre',\n",
       " 'Nro 2': 'Usuario: shinomegami | URL del usuario: http://steamcommunity.com/id/shinomegami',\n",
       " 'Nro 3': 'Usuario: REBAS_AS_F-T | URL del usuario: http://steamcommunity.com/id/REBAS_AS_F-T',\n",
       " 'Nro 4': 'Usuario: Terminally-Chill | URL del usuario: http://steamcommunity.com/id/Terminally-Chill',\n",
       " 'Nro 5': 'Usuario: DownSyndromeKid | URL del usuario: http://steamcommunity.com/id/DownSyndromeKid'}"
      ]
     },
     "execution_count": 37,
     "metadata": {},
     "output_type": "execute_result"
    }
   ],
   "source": [
    "userforgenre('Action')"
   ]
  },
  {
   "cell_type": "markdown",
   "metadata": {},
   "source": [
    "# Función ***developer***\n",
    "\n",
    "Esta función toma un parámetro que es el nombre de la empresa Desarrolladora, y se nos pide devolver el **porcentaje** de contenido *FREE* por año segun la empresa."
   ]
  },
  {
   "cell_type": "markdown",
   "metadata": {},
   "source": [
    "Para esta función vamos a necesitar:\n",
    "* developer: Empresa desarrolladora del juego.\n",
    "* year: Año del lanzamiento del juego.\n",
    "* items_count: Cantidad de juegos lanzados.\n",
    "* items_count_free: Cantidad de juegos FREE lanzados. \n",
    "* free_percentage: Porcentaje de juegos FREE lanzados."
   ]
  },
  {
   "cell_type": "markdown",
   "metadata": {},
   "source": [
    "Seleccionamos las columnas necesarias"
   ]
  },
  {
   "cell_type": "code",
   "execution_count": 86,
   "metadata": {},
   "outputs": [],
   "source": [
    "df_function_5 = steam_games[['developer','release_year','id']]"
   ]
  },
  {
   "cell_type": "code",
   "execution_count": 87,
   "metadata": {},
   "outputs": [
    {
     "data": {
      "text/html": [
       "<div>\n",
       "<style scoped>\n",
       "    .dataframe tbody tr th:only-of-type {\n",
       "        vertical-align: middle;\n",
       "    }\n",
       "\n",
       "    .dataframe tbody tr th {\n",
       "        vertical-align: top;\n",
       "    }\n",
       "\n",
       "    .dataframe thead th {\n",
       "        text-align: right;\n",
       "    }\n",
       "</style>\n",
       "<table border=\"1\" class=\"dataframe\">\n",
       "  <thead>\n",
       "    <tr style=\"text-align: right;\">\n",
       "      <th></th>\n",
       "      <th>developer</th>\n",
       "      <th>release_year</th>\n",
       "      <th>id</th>\n",
       "    </tr>\n",
       "  </thead>\n",
       "  <tbody>\n",
       "    <tr>\n",
       "      <th>0</th>\n",
       "      <td>Kotoshiro</td>\n",
       "      <td>2018.0</td>\n",
       "      <td>761140.0</td>\n",
       "    </tr>\n",
       "    <tr>\n",
       "      <th>1</th>\n",
       "      <td>Secret Level SRL</td>\n",
       "      <td>2018.0</td>\n",
       "      <td>643980.0</td>\n",
       "    </tr>\n",
       "    <tr>\n",
       "      <th>2</th>\n",
       "      <td>Poolians.com</td>\n",
       "      <td>2017.0</td>\n",
       "      <td>670290.0</td>\n",
       "    </tr>\n",
       "    <tr>\n",
       "      <th>3</th>\n",
       "      <td>彼岸领域</td>\n",
       "      <td>2017.0</td>\n",
       "      <td>767400.0</td>\n",
       "    </tr>\n",
       "    <tr>\n",
       "      <th>4</th>\n",
       "      <td>NaN</td>\n",
       "      <td>NaN</td>\n",
       "      <td>773570.0</td>\n",
       "    </tr>\n",
       "  </tbody>\n",
       "</table>\n",
       "</div>"
      ],
      "text/plain": [
       "          developer  release_year        id\n",
       "0         Kotoshiro        2018.0  761140.0\n",
       "1  Secret Level SRL        2018.0  643980.0\n",
       "2      Poolians.com        2017.0  670290.0\n",
       "3              彼岸领域        2017.0  767400.0\n",
       "4               NaN           NaN  773570.0"
      ]
     },
     "execution_count": 87,
     "metadata": {},
     "output_type": "execute_result"
    }
   ],
   "source": [
    "df_function_5.head()"
   ]
  },
  {
   "cell_type": "code",
   "execution_count": 88,
   "metadata": {},
   "outputs": [
    {
     "name": "stdout",
     "output_type": "stream",
     "text": [
      "La columna developer tiene un 10.3% de valores nulos.\n",
      "La columna release_year tiene un 6.6% de valores nulos.\n",
      "La columna id tiene un 0.0% de valores nulos.\n"
     ]
    }
   ],
   "source": [
    "u.valores_nulos(df_function_5)"
   ]
  },
  {
   "cell_type": "markdown",
   "metadata": {},
   "source": [
    "Borramos los registros vacios"
   ]
  },
  {
   "cell_type": "code",
   "execution_count": 89,
   "metadata": {},
   "outputs": [],
   "source": [
    "df_function_5.dropna(inplace=True)"
   ]
  },
  {
   "cell_type": "markdown",
   "metadata": {},
   "source": [
    "Reiniciamos el índice"
   ]
  },
  {
   "cell_type": "code",
   "execution_count": 90,
   "metadata": {},
   "outputs": [],
   "source": [
    "df_function_5.reset_index(drop= True, inplace= True)"
   ]
  },
  {
   "cell_type": "markdown",
   "metadata": {},
   "source": [
    "Agrupamos por *'developer'* y *'release_year'* y contamos los id unicos."
   ]
  },
  {
   "cell_type": "code",
   "execution_count": 91,
   "metadata": {},
   "outputs": [],
   "source": [
    "df_function_5 = df_function_5.groupby(['developer','release_year'])['id'].nunique().reset_index()"
   ]
  },
  {
   "cell_type": "code",
   "execution_count": 92,
   "metadata": {},
   "outputs": [
    {
     "data": {
      "text/html": [
       "<div>\n",
       "<style scoped>\n",
       "    .dataframe tbody tr th:only-of-type {\n",
       "        vertical-align: middle;\n",
       "    }\n",
       "\n",
       "    .dataframe tbody tr th {\n",
       "        vertical-align: top;\n",
       "    }\n",
       "\n",
       "    .dataframe thead th {\n",
       "        text-align: right;\n",
       "    }\n",
       "</style>\n",
       "<table border=\"1\" class=\"dataframe\">\n",
       "  <thead>\n",
       "    <tr style=\"text-align: right;\">\n",
       "      <th></th>\n",
       "      <th>developer</th>\n",
       "      <th>release_year</th>\n",
       "      <th>id</th>\n",
       "    </tr>\n",
       "  </thead>\n",
       "  <tbody>\n",
       "    <tr>\n",
       "      <th>0</th>\n",
       "      <td>+7 Software</td>\n",
       "      <td>2016.0</td>\n",
       "      <td>1</td>\n",
       "    </tr>\n",
       "    <tr>\n",
       "      <th>1</th>\n",
       "      <td>+Mpact Games, LLC.</td>\n",
       "      <td>2017.0</td>\n",
       "      <td>1</td>\n",
       "    </tr>\n",
       "    <tr>\n",
       "      <th>2</th>\n",
       "      <td>.M.Y.W.</td>\n",
       "      <td>2016.0</td>\n",
       "      <td>1</td>\n",
       "    </tr>\n",
       "    <tr>\n",
       "      <th>3</th>\n",
       "      <td>.ez Games</td>\n",
       "      <td>2017.0</td>\n",
       "      <td>1</td>\n",
       "    </tr>\n",
       "    <tr>\n",
       "      <th>4</th>\n",
       "      <td>07th Expansion</td>\n",
       "      <td>2015.0</td>\n",
       "      <td>2</td>\n",
       "    </tr>\n",
       "    <tr>\n",
       "      <th>...</th>\n",
       "      <td>...</td>\n",
       "      <td>...</td>\n",
       "      <td>...</td>\n",
       "    </tr>\n",
       "    <tr>\n",
       "      <th>14977</th>\n",
       "      <td>萌石游戏</td>\n",
       "      <td>2017.0</td>\n",
       "      <td>1</td>\n",
       "    </tr>\n",
       "    <tr>\n",
       "      <th>14978</th>\n",
       "      <td>高考恋爱委员会</td>\n",
       "      <td>2015.0</td>\n",
       "      <td>1</td>\n",
       "    </tr>\n",
       "    <tr>\n",
       "      <th>14979</th>\n",
       "      <td>高考恋爱委员会,Days</td>\n",
       "      <td>2015.0</td>\n",
       "      <td>1</td>\n",
       "    </tr>\n",
       "    <tr>\n",
       "      <th>14980</th>\n",
       "      <td>高考恋爱委员会,橘子班</td>\n",
       "      <td>2015.0</td>\n",
       "      <td>1</td>\n",
       "    </tr>\n",
       "    <tr>\n",
       "      <th>14981</th>\n",
       "      <td>高考恋爱委员会,橘子班</td>\n",
       "      <td>2017.0</td>\n",
       "      <td>1</td>\n",
       "    </tr>\n",
       "  </tbody>\n",
       "</table>\n",
       "<p>14982 rows × 3 columns</p>\n",
       "</div>"
      ],
      "text/plain": [
       "                developer  release_year  id\n",
       "0             +7 Software        2016.0   1\n",
       "1      +Mpact Games, LLC.        2017.0   1\n",
       "2                 .M.Y.W.        2016.0   1\n",
       "3               .ez Games        2017.0   1\n",
       "4          07th Expansion        2015.0   2\n",
       "...                   ...           ...  ..\n",
       "14977                萌石游戏        2017.0   1\n",
       "14978             高考恋爱委员会        2015.0   1\n",
       "14979        高考恋爱委员会,Days        2015.0   1\n",
       "14980         高考恋爱委员会,橘子班        2015.0   1\n",
       "14981         高考恋爱委员会,橘子班        2017.0   1\n",
       "\n",
       "[14982 rows x 3 columns]"
      ]
     },
     "execution_count": 92,
     "metadata": {},
     "output_type": "execute_result"
    }
   ],
   "source": [
    "df_function_5"
   ]
  },
  {
   "cell_type": "markdown",
   "metadata": {},
   "source": [
    "Renombramos las columnas para poder entender mejor el DataFrame"
   ]
  },
  {
   "cell_type": "code",
   "execution_count": 93,
   "metadata": {},
   "outputs": [],
   "source": [
    "df_function_5.rename(columns={'id': 'items_count','release_year': 'year'}, inplace=True)"
   ]
  },
  {
   "cell_type": "markdown",
   "metadata": {},
   "source": [
    "Cambiamos el tipo de dato de las columnas *year* y *items_count*"
   ]
  },
  {
   "cell_type": "code",
   "execution_count": 94,
   "metadata": {},
   "outputs": [],
   "source": [
    "df_function_5[['items_count','year']] = df_function_5[['items_count','year']].astype(int)"
   ]
  },
  {
   "cell_type": "markdown",
   "metadata": {},
   "source": [
    "Ahora creamos un nuevo DataFrame donde los items sean FREE, o sea, el precio sea igual a cero."
   ]
  },
  {
   "cell_type": "code",
   "execution_count": 49,
   "metadata": {},
   "outputs": [],
   "source": [
    "developer_free = steam_games[['developer', 'id', 'release_year', 'price']][steam_games['price'] == '0.0']"
   ]
  },
  {
   "cell_type": "code",
   "execution_count": 51,
   "metadata": {},
   "outputs": [
    {
     "data": {
      "text/html": [
       "<div>\n",
       "<style scoped>\n",
       "    .dataframe tbody tr th:only-of-type {\n",
       "        vertical-align: middle;\n",
       "    }\n",
       "\n",
       "    .dataframe tbody tr th {\n",
       "        vertical-align: top;\n",
       "    }\n",
       "\n",
       "    .dataframe thead th {\n",
       "        text-align: right;\n",
       "    }\n",
       "</style>\n",
       "<table border=\"1\" class=\"dataframe\">\n",
       "  <thead>\n",
       "    <tr style=\"text-align: right;\">\n",
       "      <th></th>\n",
       "      <th>developer</th>\n",
       "      <th>id</th>\n",
       "      <th>release_year</th>\n",
       "      <th>price</th>\n",
       "    </tr>\n",
       "  </thead>\n",
       "  <tbody>\n",
       "    <tr>\n",
       "      <th>1</th>\n",
       "      <td>Secret Level SRL</td>\n",
       "      <td>643980.0</td>\n",
       "      <td>2018.0</td>\n",
       "      <td>0.0</td>\n",
       "    </tr>\n",
       "    <tr>\n",
       "      <th>2</th>\n",
       "      <td>Poolians.com</td>\n",
       "      <td>670290.0</td>\n",
       "      <td>2017.0</td>\n",
       "      <td>0.0</td>\n",
       "    </tr>\n",
       "    <tr>\n",
       "      <th>11</th>\n",
       "      <td>NaN</td>\n",
       "      <td>724910.0</td>\n",
       "      <td>NaN</td>\n",
       "      <td>0.0</td>\n",
       "    </tr>\n",
       "    <tr>\n",
       "      <th>60</th>\n",
       "      <td>Unknown Worlds Entertainment</td>\n",
       "      <td>4900.0</td>\n",
       "      <td>2006.0</td>\n",
       "      <td>0.0</td>\n",
       "    </tr>\n",
       "    <tr>\n",
       "      <th>190</th>\n",
       "      <td>Sandstorm Productions</td>\n",
       "      <td>1230.0</td>\n",
       "      <td>2008.0</td>\n",
       "      <td>0.0</td>\n",
       "    </tr>\n",
       "  </tbody>\n",
       "</table>\n",
       "</div>"
      ],
      "text/plain": [
       "                        developer        id  release_year price\n",
       "1                Secret Level SRL  643980.0        2018.0   0.0\n",
       "2                    Poolians.com  670290.0        2017.0   0.0\n",
       "11                            NaN  724910.0           NaN   0.0\n",
       "60   Unknown Worlds Entertainment    4900.0        2006.0   0.0\n",
       "190         Sandstorm Productions    1230.0        2008.0   0.0"
      ]
     },
     "execution_count": 51,
     "metadata": {},
     "output_type": "execute_result"
    }
   ],
   "source": [
    "developer_free.head()"
   ]
  },
  {
   "cell_type": "markdown",
   "metadata": {},
   "source": [
    "Bien, borramos la columna *'price'*"
   ]
  },
  {
   "cell_type": "code",
   "execution_count": 52,
   "metadata": {},
   "outputs": [],
   "source": [
    "developer_free.drop(columns= 'price', inplace= True)"
   ]
  },
  {
   "cell_type": "markdown",
   "metadata": {},
   "source": [
    "Hacemos la misma agrupación que el otro DataFrame"
   ]
  },
  {
   "cell_type": "code",
   "execution_count": 53,
   "metadata": {},
   "outputs": [],
   "source": [
    "developer_free = developer_free.groupby(['developer', 'release_year'])['id'].nunique().reset_index()"
   ]
  },
  {
   "cell_type": "markdown",
   "metadata": {},
   "source": [
    "Y ahora cambiamos los nombres de las columnas"
   ]
  },
  {
   "cell_type": "code",
   "execution_count": 54,
   "metadata": {},
   "outputs": [],
   "source": [
    "developer_free.rename(columns={'id': 'items_count_free','release_year': 'year'}, inplace=True)"
   ]
  },
  {
   "cell_type": "code",
   "execution_count": 55,
   "metadata": {},
   "outputs": [
    {
     "data": {
      "text/html": [
       "<div>\n",
       "<style scoped>\n",
       "    .dataframe tbody tr th:only-of-type {\n",
       "        vertical-align: middle;\n",
       "    }\n",
       "\n",
       "    .dataframe tbody tr th {\n",
       "        vertical-align: top;\n",
       "    }\n",
       "\n",
       "    .dataframe thead th {\n",
       "        text-align: right;\n",
       "    }\n",
       "</style>\n",
       "<table border=\"1\" class=\"dataframe\">\n",
       "  <thead>\n",
       "    <tr style=\"text-align: right;\">\n",
       "      <th></th>\n",
       "      <th>developer</th>\n",
       "      <th>year</th>\n",
       "      <th>items_count_free</th>\n",
       "    </tr>\n",
       "  </thead>\n",
       "  <tbody>\n",
       "    <tr>\n",
       "      <th>0</th>\n",
       "      <td>14 Hours Productions</td>\n",
       "      <td>2017.0</td>\n",
       "      <td>1</td>\n",
       "    </tr>\n",
       "    <tr>\n",
       "      <th>1</th>\n",
       "      <td>2-Volt Games</td>\n",
       "      <td>2017.0</td>\n",
       "      <td>1</td>\n",
       "    </tr>\n",
       "    <tr>\n",
       "      <th>2</th>\n",
       "      <td>2Chance Projects,IIchan Eroge Team</td>\n",
       "      <td>2015.0</td>\n",
       "      <td>1</td>\n",
       "    </tr>\n",
       "    <tr>\n",
       "      <th>3</th>\n",
       "      <td>3D Realms</td>\n",
       "      <td>1996.0</td>\n",
       "      <td>1</td>\n",
       "    </tr>\n",
       "    <tr>\n",
       "      <th>4</th>\n",
       "      <td>4 I Lab</td>\n",
       "      <td>2016.0</td>\n",
       "      <td>1</td>\n",
       "    </tr>\n",
       "  </tbody>\n",
       "</table>\n",
       "</div>"
      ],
      "text/plain": [
       "                            developer    year  items_count_free\n",
       "0                14 Hours Productions  2017.0                 1\n",
       "1                        2-Volt Games  2017.0                 1\n",
       "2  2Chance Projects,IIchan Eroge Team  2015.0                 1\n",
       "3                           3D Realms  1996.0                 1\n",
       "4                             4 I Lab  2016.0                 1"
      ]
     },
     "execution_count": 55,
     "metadata": {},
     "output_type": "execute_result"
    }
   ],
   "source": [
    "developer_free.head()"
   ]
  },
  {
   "cell_type": "markdown",
   "metadata": {},
   "source": [
    "Cambiamos el tipo de dato de la columna *'year'*"
   ]
  },
  {
   "cell_type": "code",
   "execution_count": 56,
   "metadata": {},
   "outputs": [],
   "source": [
    "developer_free['year'] = developer_free['year'].astype(int)"
   ]
  },
  {
   "cell_type": "markdown",
   "metadata": {},
   "source": [
    "Procedemos a unir ambos DataFrames "
   ]
  },
  {
   "cell_type": "code",
   "execution_count": 95,
   "metadata": {},
   "outputs": [],
   "source": [
    "df_function_5 = df_function_5.merge(developer_free, on=['developer', 'year'], how='left')"
   ]
  },
  {
   "cell_type": "code",
   "execution_count": 96,
   "metadata": {},
   "outputs": [
    {
     "data": {
      "text/html": [
       "<div>\n",
       "<style scoped>\n",
       "    .dataframe tbody tr th:only-of-type {\n",
       "        vertical-align: middle;\n",
       "    }\n",
       "\n",
       "    .dataframe tbody tr th {\n",
       "        vertical-align: top;\n",
       "    }\n",
       "\n",
       "    .dataframe thead th {\n",
       "        text-align: right;\n",
       "    }\n",
       "</style>\n",
       "<table border=\"1\" class=\"dataframe\">\n",
       "  <thead>\n",
       "    <tr style=\"text-align: right;\">\n",
       "      <th></th>\n",
       "      <th>developer</th>\n",
       "      <th>year</th>\n",
       "      <th>items_count</th>\n",
       "      <th>items_count_free</th>\n",
       "    </tr>\n",
       "  </thead>\n",
       "  <tbody>\n",
       "    <tr>\n",
       "      <th>0</th>\n",
       "      <td>+7 Software</td>\n",
       "      <td>2016</td>\n",
       "      <td>1</td>\n",
       "      <td>NaN</td>\n",
       "    </tr>\n",
       "    <tr>\n",
       "      <th>1</th>\n",
       "      <td>+Mpact Games, LLC.</td>\n",
       "      <td>2017</td>\n",
       "      <td>1</td>\n",
       "      <td>NaN</td>\n",
       "    </tr>\n",
       "    <tr>\n",
       "      <th>2</th>\n",
       "      <td>.M.Y.W.</td>\n",
       "      <td>2016</td>\n",
       "      <td>1</td>\n",
       "      <td>NaN</td>\n",
       "    </tr>\n",
       "    <tr>\n",
       "      <th>3</th>\n",
       "      <td>.ez Games</td>\n",
       "      <td>2017</td>\n",
       "      <td>1</td>\n",
       "      <td>NaN</td>\n",
       "    </tr>\n",
       "    <tr>\n",
       "      <th>4</th>\n",
       "      <td>07th Expansion</td>\n",
       "      <td>2015</td>\n",
       "      <td>2</td>\n",
       "      <td>NaN</td>\n",
       "    </tr>\n",
       "  </tbody>\n",
       "</table>\n",
       "</div>"
      ],
      "text/plain": [
       "            developer  year  items_count  items_count_free\n",
       "0         +7 Software  2016            1               NaN\n",
       "1  +Mpact Games, LLC.  2017            1               NaN\n",
       "2             .M.Y.W.  2016            1               NaN\n",
       "3           .ez Games  2017            1               NaN\n",
       "4      07th Expansion  2015            2               NaN"
      ]
     },
     "execution_count": 96,
     "metadata": {},
     "output_type": "execute_result"
    }
   ],
   "source": [
    "df_function_5.head()"
   ]
  },
  {
   "cell_type": "markdown",
   "metadata": {},
   "source": [
    "Vemos que hay registros vacios en la columna ***items_count_free***, y nos da a entender de que hay ausencia de contenido FREE, asi que lo reemplazaremos por un cero."
   ]
  },
  {
   "cell_type": "code",
   "execution_count": 97,
   "metadata": {},
   "outputs": [],
   "source": [
    "df_function_5.items_count_free.fillna(0, inplace= True)"
   ]
  },
  {
   "cell_type": "markdown",
   "metadata": {},
   "source": [
    "Ahora crearemos una nueva columna que nos indicara el porcentaje de contenido FREE por desarrollador y año"
   ]
  },
  {
   "cell_type": "code",
   "execution_count": 98,
   "metadata": {},
   "outputs": [],
   "source": [
    "df_function_5['free_percentage'] = (df_function_5[\"items_count_free\"] / df_function_5[\"items_count\"] * 100).round(2)"
   ]
  },
  {
   "cell_type": "code",
   "execution_count": 99,
   "metadata": {},
   "outputs": [
    {
     "data": {
      "text/html": [
       "<div>\n",
       "<style scoped>\n",
       "    .dataframe tbody tr th:only-of-type {\n",
       "        vertical-align: middle;\n",
       "    }\n",
       "\n",
       "    .dataframe tbody tr th {\n",
       "        vertical-align: top;\n",
       "    }\n",
       "\n",
       "    .dataframe thead th {\n",
       "        text-align: right;\n",
       "    }\n",
       "</style>\n",
       "<table border=\"1\" class=\"dataframe\">\n",
       "  <thead>\n",
       "    <tr style=\"text-align: right;\">\n",
       "      <th></th>\n",
       "      <th>developer</th>\n",
       "      <th>year</th>\n",
       "      <th>items_count</th>\n",
       "      <th>items_count_free</th>\n",
       "      <th>free_percentage</th>\n",
       "    </tr>\n",
       "  </thead>\n",
       "  <tbody>\n",
       "    <tr>\n",
       "      <th>0</th>\n",
       "      <td>+7 Software</td>\n",
       "      <td>2016</td>\n",
       "      <td>1</td>\n",
       "      <td>0.0</td>\n",
       "      <td>0.0</td>\n",
       "    </tr>\n",
       "    <tr>\n",
       "      <th>1</th>\n",
       "      <td>+Mpact Games, LLC.</td>\n",
       "      <td>2017</td>\n",
       "      <td>1</td>\n",
       "      <td>0.0</td>\n",
       "      <td>0.0</td>\n",
       "    </tr>\n",
       "    <tr>\n",
       "      <th>2</th>\n",
       "      <td>.M.Y.W.</td>\n",
       "      <td>2016</td>\n",
       "      <td>1</td>\n",
       "      <td>0.0</td>\n",
       "      <td>0.0</td>\n",
       "    </tr>\n",
       "    <tr>\n",
       "      <th>3</th>\n",
       "      <td>.ez Games</td>\n",
       "      <td>2017</td>\n",
       "      <td>1</td>\n",
       "      <td>0.0</td>\n",
       "      <td>0.0</td>\n",
       "    </tr>\n",
       "    <tr>\n",
       "      <th>4</th>\n",
       "      <td>07th Expansion</td>\n",
       "      <td>2015</td>\n",
       "      <td>2</td>\n",
       "      <td>0.0</td>\n",
       "      <td>0.0</td>\n",
       "    </tr>\n",
       "    <tr>\n",
       "      <th>...</th>\n",
       "      <td>...</td>\n",
       "      <td>...</td>\n",
       "      <td>...</td>\n",
       "      <td>...</td>\n",
       "      <td>...</td>\n",
       "    </tr>\n",
       "    <tr>\n",
       "      <th>14977</th>\n",
       "      <td>萌石游戏</td>\n",
       "      <td>2017</td>\n",
       "      <td>1</td>\n",
       "      <td>0.0</td>\n",
       "      <td>0.0</td>\n",
       "    </tr>\n",
       "    <tr>\n",
       "      <th>14978</th>\n",
       "      <td>高考恋爱委员会</td>\n",
       "      <td>2015</td>\n",
       "      <td>1</td>\n",
       "      <td>1.0</td>\n",
       "      <td>100.0</td>\n",
       "    </tr>\n",
       "    <tr>\n",
       "      <th>14979</th>\n",
       "      <td>高考恋爱委员会,Days</td>\n",
       "      <td>2015</td>\n",
       "      <td>1</td>\n",
       "      <td>0.0</td>\n",
       "      <td>0.0</td>\n",
       "    </tr>\n",
       "    <tr>\n",
       "      <th>14980</th>\n",
       "      <td>高考恋爱委员会,橘子班</td>\n",
       "      <td>2015</td>\n",
       "      <td>1</td>\n",
       "      <td>0.0</td>\n",
       "      <td>0.0</td>\n",
       "    </tr>\n",
       "    <tr>\n",
       "      <th>14981</th>\n",
       "      <td>高考恋爱委员会,橘子班</td>\n",
       "      <td>2017</td>\n",
       "      <td>1</td>\n",
       "      <td>0.0</td>\n",
       "      <td>0.0</td>\n",
       "    </tr>\n",
       "  </tbody>\n",
       "</table>\n",
       "<p>14982 rows × 5 columns</p>\n",
       "</div>"
      ],
      "text/plain": [
       "                developer  year  items_count  items_count_free   \n",
       "0             +7 Software  2016            1               0.0  \\\n",
       "1      +Mpact Games, LLC.  2017            1               0.0   \n",
       "2                 .M.Y.W.  2016            1               0.0   \n",
       "3               .ez Games  2017            1               0.0   \n",
       "4          07th Expansion  2015            2               0.0   \n",
       "...                   ...   ...          ...               ...   \n",
       "14977                萌石游戏  2017            1               0.0   \n",
       "14978             高考恋爱委员会  2015            1               1.0   \n",
       "14979        高考恋爱委员会,Days  2015            1               0.0   \n",
       "14980         高考恋爱委员会,橘子班  2015            1               0.0   \n",
       "14981         高考恋爱委员会,橘子班  2017            1               0.0   \n",
       "\n",
       "       free_percentage  \n",
       "0                  0.0  \n",
       "1                  0.0  \n",
       "2                  0.0  \n",
       "3                  0.0  \n",
       "4                  0.0  \n",
       "...                ...  \n",
       "14977              0.0  \n",
       "14978            100.0  \n",
       "14979              0.0  \n",
       "14980              0.0  \n",
       "14981              0.0  \n",
       "\n",
       "[14982 rows x 5 columns]"
      ]
     },
     "execution_count": 99,
     "metadata": {},
     "output_type": "execute_result"
    }
   ],
   "source": [
    "df_function_5 "
   ]
  },
  {
   "cell_type": "markdown",
   "metadata": {},
   "source": [
    "Guardamos el DataFrame en un archivo CSV"
   ]
  },
  {
   "cell_type": "code",
   "execution_count": 65,
   "metadata": {},
   "outputs": [],
   "source": [
    "df_function_5.to_csv('./dataset/Endpoints/endpoint_developer.csv', index= False)"
   ]
  },
  {
   "cell_type": "code",
   "execution_count": 105,
   "metadata": {},
   "outputs": [],
   "source": [
    "def developer(desarrollador: str):\n",
    "    if desarrollador in df_function_5['developer'].unique():\n",
    "        df = df_function_5[df_function_5['developer'] == desarrollador]\n",
    "\n",
    "        mi_dict = {\n",
    "            year: f'Cantidad de Items: {items_count} || Contenido FREE: {free_percent:}%'\n",
    "            for year, items_count, free_percent in zip(df['year'], df['items_count'], df['free_percentage'])\n",
    "        }\n",
    "\n",
    "        return mi_dict\n",
    "    else:\n",
    "        return 'Desarrollador no encontrado en los datos'\n"
   ]
  },
  {
   "cell_type": "code",
   "execution_count": 106,
   "metadata": {},
   "outputs": [
    {
     "data": {
      "text/plain": [
       "{1993: 'Cantidad de Items: 1 || Contenido FREE: 0.0%',\n",
       " 1996: 'Cantidad de Items: 1 || Contenido FREE: 0.0%',\n",
       " 1997: 'Cantidad de Items: 1 || Contenido FREE: 0.0%',\n",
       " 2000: 'Cantidad de Items: 1 || Contenido FREE: 0.0%'}"
      ]
     },
     "execution_count": 106,
     "metadata": {},
     "output_type": "execute_result"
    }
   ],
   "source": [
    "developer('Activision')"
   ]
  },
  {
   "cell_type": "markdown",
   "metadata": {},
   "source": [
    "# Función ***sentiment_analysis***\n",
    "\n",
    "Esta función toma un parámetro que es el año del posteo de la reseña y devuelve una lista con la cantidad de reseñas categorizadas con un análisis de sentimiento.\n"
   ]
  },
  {
   "cell_type": "markdown",
   "metadata": {},
   "source": [
    "Para esta función vamos a necesitar:\n",
    "* user_id: ID del usuario.\n",
    "* item_id: ID del juego.\n",
    "* sentiment_analysis: Categoria del análisis de sentimiento de la reseña.\n",
    "* year_posted: Añio del posteo de la reseña. "
   ]
  },
  {
   "cell_type": "markdown",
   "metadata": {},
   "source": [
    "Seleccionamos las columnas necesarias"
   ]
  },
  {
   "cell_type": "code",
   "execution_count": 5,
   "metadata": {},
   "outputs": [],
   "source": [
    "df_function_6 = reviews[['user_id','item_id','posted','sentiment_analysis']]"
   ]
  },
  {
   "cell_type": "code",
   "execution_count": 6,
   "metadata": {},
   "outputs": [
    {
     "data": {
      "text/html": [
       "<div>\n",
       "<style scoped>\n",
       "    .dataframe tbody tr th:only-of-type {\n",
       "        vertical-align: middle;\n",
       "    }\n",
       "\n",
       "    .dataframe tbody tr th {\n",
       "        vertical-align: top;\n",
       "    }\n",
       "\n",
       "    .dataframe thead th {\n",
       "        text-align: right;\n",
       "    }\n",
       "</style>\n",
       "<table border=\"1\" class=\"dataframe\">\n",
       "  <thead>\n",
       "    <tr style=\"text-align: right;\">\n",
       "      <th></th>\n",
       "      <th>user_id</th>\n",
       "      <th>item_id</th>\n",
       "      <th>posted</th>\n",
       "      <th>sentiment_analysis</th>\n",
       "    </tr>\n",
       "  </thead>\n",
       "  <tbody>\n",
       "    <tr>\n",
       "      <th>0</th>\n",
       "      <td>76561197970982479</td>\n",
       "      <td>1250</td>\n",
       "      <td>2011-11-05</td>\n",
       "      <td>2</td>\n",
       "    </tr>\n",
       "    <tr>\n",
       "      <th>1</th>\n",
       "      <td>76561197970982479</td>\n",
       "      <td>22200</td>\n",
       "      <td>2011-07-15</td>\n",
       "      <td>2</td>\n",
       "    </tr>\n",
       "    <tr>\n",
       "      <th>2</th>\n",
       "      <td>76561197970982479</td>\n",
       "      <td>43110</td>\n",
       "      <td>2011-04-21</td>\n",
       "      <td>2</td>\n",
       "    </tr>\n",
       "    <tr>\n",
       "      <th>3</th>\n",
       "      <td>js41637</td>\n",
       "      <td>251610</td>\n",
       "      <td>2014-06-24</td>\n",
       "      <td>2</td>\n",
       "    </tr>\n",
       "    <tr>\n",
       "      <th>4</th>\n",
       "      <td>js41637</td>\n",
       "      <td>227300</td>\n",
       "      <td>2013-09-08</td>\n",
       "      <td>2</td>\n",
       "    </tr>\n",
       "  </tbody>\n",
       "</table>\n",
       "</div>"
      ],
      "text/plain": [
       "             user_id  item_id      posted  sentiment_analysis\n",
       "0  76561197970982479     1250  2011-11-05                   2\n",
       "1  76561197970982479    22200  2011-07-15                   2\n",
       "2  76561197970982479    43110  2011-04-21                   2\n",
       "3            js41637   251610  2014-06-24                   2\n",
       "4            js41637   227300  2013-09-08                   2"
      ]
     },
     "execution_count": 6,
     "metadata": {},
     "output_type": "execute_result"
    }
   ],
   "source": [
    "df_function_6.head()"
   ]
  },
  {
   "cell_type": "markdown",
   "metadata": {},
   "source": [
    "Verificamos los valores nulos"
   ]
  },
  {
   "cell_type": "code",
   "execution_count": 7,
   "metadata": {},
   "outputs": [
    {
     "name": "stdout",
     "output_type": "stream",
     "text": [
      "La columna user_id tiene un 0.0% de valores nulos.\n",
      "La columna item_id tiene un 0.0% de valores nulos.\n",
      "La columna posted tiene un 17.0% de valores nulos.\n",
      "La columna sentiment_analysis tiene un 0.0% de valores nulos.\n"
     ]
    }
   ],
   "source": [
    "u.valores_nulos(df_function_6)"
   ]
  },
  {
   "cell_type": "markdown",
   "metadata": {},
   "source": [
    "Eliminamos esos registros con valores nulos"
   ]
  },
  {
   "cell_type": "code",
   "execution_count": 8,
   "metadata": {},
   "outputs": [],
   "source": [
    "df_function_6.dropna(inplace= True)"
   ]
  },
  {
   "cell_type": "code",
   "execution_count": 9,
   "metadata": {},
   "outputs": [
    {
     "name": "stdout",
     "output_type": "stream",
     "text": [
      "<class 'pandas.core.frame.DataFrame'>\n",
      "Index: 48498 entries, 0 to 58402\n",
      "Data columns (total 4 columns):\n",
      " #   Column              Non-Null Count  Dtype \n",
      "---  ------              --------------  ----- \n",
      " 0   user_id             48498 non-null  object\n",
      " 1   item_id             48498 non-null  int64 \n",
      " 2   posted              48498 non-null  object\n",
      " 3   sentiment_analysis  48498 non-null  int64 \n",
      "dtypes: int64(2), object(2)\n",
      "memory usage: 1.9+ MB\n"
     ]
    }
   ],
   "source": [
    "df_function_6.info()"
   ]
  },
  {
   "cell_type": "markdown",
   "metadata": {},
   "source": [
    "Cambiamos el tipo de dato de la columnas *'posted'*"
   ]
  },
  {
   "cell_type": "code",
   "execution_count": 10,
   "metadata": {},
   "outputs": [],
   "source": [
    "df_function_6['posted'] = pd.to_datetime(df_function_6['posted'], format='%Y-%m-%d')"
   ]
  },
  {
   "cell_type": "markdown",
   "metadata": {},
   "source": [
    "Agregamos una columna con el año del posteo para facilitar el analisis"
   ]
  },
  {
   "cell_type": "code",
   "execution_count": 11,
   "metadata": {},
   "outputs": [],
   "source": [
    "df_function_6['year_posted'] = df_function_6['posted'].dt.year"
   ]
  },
  {
   "cell_type": "code",
   "execution_count": 12,
   "metadata": {},
   "outputs": [
    {
     "data": {
      "text/html": [
       "<div>\n",
       "<style scoped>\n",
       "    .dataframe tbody tr th:only-of-type {\n",
       "        vertical-align: middle;\n",
       "    }\n",
       "\n",
       "    .dataframe tbody tr th {\n",
       "        vertical-align: top;\n",
       "    }\n",
       "\n",
       "    .dataframe thead th {\n",
       "        text-align: right;\n",
       "    }\n",
       "</style>\n",
       "<table border=\"1\" class=\"dataframe\">\n",
       "  <thead>\n",
       "    <tr style=\"text-align: right;\">\n",
       "      <th></th>\n",
       "      <th>user_id</th>\n",
       "      <th>item_id</th>\n",
       "      <th>posted</th>\n",
       "      <th>sentiment_analysis</th>\n",
       "      <th>year_posted</th>\n",
       "    </tr>\n",
       "  </thead>\n",
       "  <tbody>\n",
       "    <tr>\n",
       "      <th>0</th>\n",
       "      <td>76561197970982479</td>\n",
       "      <td>1250</td>\n",
       "      <td>2011-11-05</td>\n",
       "      <td>2</td>\n",
       "      <td>2011</td>\n",
       "    </tr>\n",
       "    <tr>\n",
       "      <th>1</th>\n",
       "      <td>76561197970982479</td>\n",
       "      <td>22200</td>\n",
       "      <td>2011-07-15</td>\n",
       "      <td>2</td>\n",
       "      <td>2011</td>\n",
       "    </tr>\n",
       "    <tr>\n",
       "      <th>2</th>\n",
       "      <td>76561197970982479</td>\n",
       "      <td>43110</td>\n",
       "      <td>2011-04-21</td>\n",
       "      <td>2</td>\n",
       "      <td>2011</td>\n",
       "    </tr>\n",
       "    <tr>\n",
       "      <th>3</th>\n",
       "      <td>js41637</td>\n",
       "      <td>251610</td>\n",
       "      <td>2014-06-24</td>\n",
       "      <td>2</td>\n",
       "      <td>2014</td>\n",
       "    </tr>\n",
       "    <tr>\n",
       "      <th>4</th>\n",
       "      <td>js41637</td>\n",
       "      <td>227300</td>\n",
       "      <td>2013-09-08</td>\n",
       "      <td>2</td>\n",
       "      <td>2013</td>\n",
       "    </tr>\n",
       "  </tbody>\n",
       "</table>\n",
       "</div>"
      ],
      "text/plain": [
       "             user_id  item_id     posted  sentiment_analysis  year_posted\n",
       "0  76561197970982479     1250 2011-11-05                   2         2011\n",
       "1  76561197970982479    22200 2011-07-15                   2         2011\n",
       "2  76561197970982479    43110 2011-04-21                   2         2011\n",
       "3            js41637   251610 2014-06-24                   2         2014\n",
       "4            js41637   227300 2013-09-08                   2         2013"
      ]
     },
     "execution_count": 12,
     "metadata": {},
     "output_type": "execute_result"
    }
   ],
   "source": [
    "df_function_6.head()"
   ]
  },
  {
   "cell_type": "markdown",
   "metadata": {},
   "source": [
    "Eliminamos la columna *'posted'*"
   ]
  },
  {
   "cell_type": "code",
   "execution_count": 13,
   "metadata": {},
   "outputs": [],
   "source": [
    "df_function_6.drop(columns='posted',inplace= True)"
   ]
  },
  {
   "cell_type": "markdown",
   "metadata": {},
   "source": [
    "Guardamos el DataFrame en un archivo CSV"
   ]
  },
  {
   "cell_type": "code",
   "execution_count": 15,
   "metadata": {},
   "outputs": [],
   "source": [
    "df_function_6.to_csv('./dataset/Endpoints/endpoint_sentiment_analysis.csv', index= False)"
   ]
  },
  {
   "cell_type": "code",
   "execution_count": 124,
   "metadata": {},
   "outputs": [],
   "source": [
    "def sentiment_analysis(year: int,):\n",
    "\n",
    "    if year in df_function_6['year_posted'].unique():\n",
    "        df = df_function_6[df_function_6['year_posted'] == year]\n",
    "\n",
    "        sentiment_counts = df['sentiment_analysis'].value_counts().to_dict()\n",
    "\n",
    "        result= {\n",
    "            'Negativo': sentiment_counts.get(0, 0),\n",
    "            'Neutral': sentiment_counts.get(1, 0),\n",
    "            'Positivo': sentiment_counts.get(2, 0)\n",
    "        }\n",
    "        return result\n",
    "    else:\n",
    "        return 'No hay registros con ese año'\n"
   ]
  },
  {
   "cell_type": "code",
   "execution_count": 125,
   "metadata": {},
   "outputs": [
    {
     "data": {
      "text/plain": [
       "{'Negativo': 3323, 'Neutral': 3853, 'Positivo': 10978}"
      ]
     },
     "execution_count": 125,
     "metadata": {},
     "output_type": "execute_result"
    }
   ],
   "source": [
    "sentiment_analysis(2015)"
   ]
  },
  {
   "cell_type": "markdown",
   "metadata": {},
   "source": [
    "# Modelo de Recomendación\n",
    "\n",
    "Para el Modelo de Recomendación, vamos a usar el enfoque **Collaborative Filtering** el cual necesitamos información de Rating.\n",
    "Como en los datos no tenemos informacion de Rating de los usuarios por los ítems, debemos crear uno, ya que esto nos ayudara a ver:\n",
    "- Usuarios con preferencias similares.\n",
    "- Características en los items que influencian los ratings de los usuarios."
   ]
  },
  {
   "cell_type": "markdown",
   "metadata": {},
   "source": [
    "### Lectura de los datasets a utilizar"
   ]
  },
  {
   "cell_type": "code",
   "execution_count": 154,
   "metadata": {},
   "outputs": [],
   "source": [
    "steam_games = pd.read_csv('./dataset/Modificados/steam_games.csv')\n",
    "reviews = pd.read_csv('./dataset/Modificados/reviews_sentiment_analysis.csv')"
   ]
  },
  {
   "cell_type": "markdown",
   "metadata": {},
   "source": [
    "### Creacion del Rating"
   ]
  },
  {
   "cell_type": "markdown",
   "metadata": {},
   "source": [
    "Usamos el dataset *reviews* para crear el rating.\n",
    "En este dataset tenemos la informacion de si un usuario recomendo un juego y la clasificacion de la reseña por análisis de sentimiento. Asi que vamos a generar un rating con rango del 1 al 5 para estos casos:\n",
    "- Rating 1: Si el usuario no recomienda el juego.\n",
    "- Rating 2: Si el usuario no recomienda el juego y la clasificacion del análisis de sentimiento es Neutral (1)\n",
    "- Rating 3: Si el usuario recomienda el juego y la clasificacion del análisis de sentimiento es Neutral (1)\n",
    "- Rating 4: Si el usuario no recomienda el juego y la clasificacion del análisis de sentimiento es Positiva (2)\n",
    "- Rating 5: Si el usuario recomienda el juego y la clasificacion del análisis de sentimiento es Positiva (2)"
   ]
  },
  {
   "cell_type": "markdown",
   "metadata": {},
   "source": [
    "Elegimos los datos que necesitamos"
   ]
  },
  {
   "cell_type": "code",
   "execution_count": 155,
   "metadata": {},
   "outputs": [],
   "source": [
    "reviews_ = reviews[['user_id','item_id','recommend','sentiment_analysis']]"
   ]
  },
  {
   "cell_type": "markdown",
   "metadata": {},
   "source": [
    "Creamos una función para los valores de la columna *Rating*"
   ]
  },
  {
   "cell_type": "code",
   "execution_count": 156,
   "metadata": {},
   "outputs": [],
   "source": [
    "def calcula_rating(row):\n",
    "    \"\"\"\n",
    "    Cálculo del rating.\n",
    "\n",
    "    Esta función calcula el rating del 1 al 5\n",
    "    en base a la columna ``recommend`` y ``sentiment_analysis``\n",
    "    del Dataframe ``reviews``.\n",
    "\n",
    "    Parameters\n",
    "    ----------\n",
    "    row: dict\n",
    "        Un diccionario que contiene las siguientes claves:\n",
    "            - \"sentiment_analysis\" (int): La clasificación del análisis de sentimientos (0, 1 o 2).\n",
    "            - \"recommend\" (bool): Indica si un item fue recomendado o no.\n",
    "\n",
    "    Returns\n",
    "    -------\n",
    "    int\n",
    "        El número del rating entre el 1 y 5.\n",
    "    \"\"\"\n",
    "\n",
    "    rating_map = {\n",
    "        (0, False): 1,\n",
    "        (0,True): 1,\n",
    "        (1, False): 2,\n",
    "        (1, True): 3,\n",
    "        (2, False): 4,\n",
    "        (2, True): 5,\n",
    "    }\n",
    "    return rating_map.get((row[\"sentiment_analysis\"], row[\"recommend\"]), None)\n"
   ]
  },
  {
   "cell_type": "markdown",
   "metadata": {},
   "source": [
    "Aplicamos la función"
   ]
  },
  {
   "cell_type": "code",
   "execution_count": 158,
   "metadata": {},
   "outputs": [],
   "source": [
    "reviews_['rating'] = reviews_.apply(calcula_rating, axis= 1)"
   ]
  },
  {
   "cell_type": "code",
   "execution_count": 160,
   "metadata": {},
   "outputs": [
    {
     "data": {
      "text/html": [
       "<div>\n",
       "<style scoped>\n",
       "    .dataframe tbody tr th:only-of-type {\n",
       "        vertical-align: middle;\n",
       "    }\n",
       "\n",
       "    .dataframe tbody tr th {\n",
       "        vertical-align: top;\n",
       "    }\n",
       "\n",
       "    .dataframe thead th {\n",
       "        text-align: right;\n",
       "    }\n",
       "</style>\n",
       "<table border=\"1\" class=\"dataframe\">\n",
       "  <thead>\n",
       "    <tr style=\"text-align: right;\">\n",
       "      <th></th>\n",
       "      <th>user_id</th>\n",
       "      <th>item_id</th>\n",
       "      <th>recommend</th>\n",
       "      <th>sentiment_analysis</th>\n",
       "      <th>rating</th>\n",
       "    </tr>\n",
       "  </thead>\n",
       "  <tbody>\n",
       "    <tr>\n",
       "      <th>0</th>\n",
       "      <td>76561197970982479</td>\n",
       "      <td>1250</td>\n",
       "      <td>True</td>\n",
       "      <td>2</td>\n",
       "      <td>5</td>\n",
       "    </tr>\n",
       "    <tr>\n",
       "      <th>1</th>\n",
       "      <td>76561197970982479</td>\n",
       "      <td>22200</td>\n",
       "      <td>True</td>\n",
       "      <td>2</td>\n",
       "      <td>5</td>\n",
       "    </tr>\n",
       "    <tr>\n",
       "      <th>2</th>\n",
       "      <td>76561197970982479</td>\n",
       "      <td>43110</td>\n",
       "      <td>True</td>\n",
       "      <td>2</td>\n",
       "      <td>5</td>\n",
       "    </tr>\n",
       "    <tr>\n",
       "      <th>3</th>\n",
       "      <td>js41637</td>\n",
       "      <td>251610</td>\n",
       "      <td>True</td>\n",
       "      <td>2</td>\n",
       "      <td>5</td>\n",
       "    </tr>\n",
       "    <tr>\n",
       "      <th>4</th>\n",
       "      <td>js41637</td>\n",
       "      <td>227300</td>\n",
       "      <td>True</td>\n",
       "      <td>2</td>\n",
       "      <td>5</td>\n",
       "    </tr>\n",
       "  </tbody>\n",
       "</table>\n",
       "</div>"
      ],
      "text/plain": [
       "             user_id  item_id  recommend  sentiment_analysis  rating\n",
       "0  76561197970982479     1250       True                   2       5\n",
       "1  76561197970982479    22200       True                   2       5\n",
       "2  76561197970982479    43110       True                   2       5\n",
       "3            js41637   251610       True                   2       5\n",
       "4            js41637   227300       True                   2       5"
      ]
     },
     "execution_count": 160,
     "metadata": {},
     "output_type": "execute_result"
    }
   ],
   "source": [
    "reviews_.head()"
   ]
  },
  {
   "cell_type": "markdown",
   "metadata": {},
   "source": [
    "Eliminamos las columnas que seran irrelevantes para el modelo"
   ]
  },
  {
   "cell_type": "code",
   "execution_count": 161,
   "metadata": {},
   "outputs": [],
   "source": [
    "reviews_.drop(columns=['recommend','sentiment_analysis'], inplace= True)"
   ]
  },
  {
   "cell_type": "markdown",
   "metadata": {},
   "source": [
    "Ahora vamos a extraer el nombre de los ítems."
   ]
  },
  {
   "cell_type": "code",
   "execution_count": 163,
   "metadata": {},
   "outputs": [],
   "source": [
    "steam_ = steam_games[['id','app_name']]"
   ]
  },
  {
   "cell_type": "markdown",
   "metadata": {},
   "source": [
    "Unimos ambos DataFrames"
   ]
  },
  {
   "cell_type": "code",
   "execution_count": 166,
   "metadata": {},
   "outputs": [],
   "source": [
    "df_model = reviews_.merge(steam_, left_on='item_id', right_on='id', how='left')"
   ]
  },
  {
   "cell_type": "markdown",
   "metadata": {},
   "source": [
    "Eliminamos la columna *'id'*, ya que tenemos la misma informacion en la columna *'item_id'*"
   ]
  },
  {
   "cell_type": "code",
   "execution_count": 169,
   "metadata": {},
   "outputs": [],
   "source": [
    "df_model.drop(columns= 'id',inplace= True)"
   ]
  },
  {
   "cell_type": "code",
   "execution_count": 170,
   "metadata": {},
   "outputs": [
    {
     "data": {
      "text/html": [
       "<div>\n",
       "<style scoped>\n",
       "    .dataframe tbody tr th:only-of-type {\n",
       "        vertical-align: middle;\n",
       "    }\n",
       "\n",
       "    .dataframe tbody tr th {\n",
       "        vertical-align: top;\n",
       "    }\n",
       "\n",
       "    .dataframe thead th {\n",
       "        text-align: right;\n",
       "    }\n",
       "</style>\n",
       "<table border=\"1\" class=\"dataframe\">\n",
       "  <thead>\n",
       "    <tr style=\"text-align: right;\">\n",
       "      <th></th>\n",
       "      <th>user_id</th>\n",
       "      <th>item_id</th>\n",
       "      <th>rating</th>\n",
       "      <th>app_name</th>\n",
       "    </tr>\n",
       "  </thead>\n",
       "  <tbody>\n",
       "    <tr>\n",
       "      <th>0</th>\n",
       "      <td>76561197970982479</td>\n",
       "      <td>1250</td>\n",
       "      <td>5</td>\n",
       "      <td>Killing Floor</td>\n",
       "    </tr>\n",
       "    <tr>\n",
       "      <th>1</th>\n",
       "      <td>76561197970982479</td>\n",
       "      <td>22200</td>\n",
       "      <td>5</td>\n",
       "      <td>Zeno Clash</td>\n",
       "    </tr>\n",
       "    <tr>\n",
       "      <th>2</th>\n",
       "      <td>76561197970982479</td>\n",
       "      <td>43110</td>\n",
       "      <td>5</td>\n",
       "      <td>NaN</td>\n",
       "    </tr>\n",
       "    <tr>\n",
       "      <th>3</th>\n",
       "      <td>js41637</td>\n",
       "      <td>251610</td>\n",
       "      <td>5</td>\n",
       "      <td>NaN</td>\n",
       "    </tr>\n",
       "    <tr>\n",
       "      <th>4</th>\n",
       "      <td>js41637</td>\n",
       "      <td>227300</td>\n",
       "      <td>5</td>\n",
       "      <td>Euro Truck Simulator 2</td>\n",
       "    </tr>\n",
       "  </tbody>\n",
       "</table>\n",
       "</div>"
      ],
      "text/plain": [
       "             user_id  item_id  rating                app_name\n",
       "0  76561197970982479     1250       5           Killing Floor\n",
       "1  76561197970982479    22200       5              Zeno Clash\n",
       "2  76561197970982479    43110       5                     NaN\n",
       "3            js41637   251610       5                     NaN\n",
       "4            js41637   227300       5  Euro Truck Simulator 2"
      ]
     },
     "execution_count": 170,
     "metadata": {},
     "output_type": "execute_result"
    }
   ],
   "source": [
    "df_model.head()"
   ]
  },
  {
   "cell_type": "markdown",
   "metadata": {},
   "source": [
    "Ordenamos las columnas"
   ]
  },
  {
   "cell_type": "code",
   "execution_count": 171,
   "metadata": {},
   "outputs": [],
   "source": [
    "df_model = df_model[['user_id','item_id','app_name','rating']]"
   ]
  },
  {
   "cell_type": "markdown",
   "metadata": {},
   "source": [
    "Guardamos el DataFrame en un archivo CSV"
   ]
  },
  {
   "cell_type": "code",
   "execution_count": 172,
   "metadata": {},
   "outputs": [],
   "source": [
    "df_model.to_csv('./dataset/Endpoints/model_recommend.csv', encoding= 'utf-8', index= False)"
   ]
  }
 ],
 "metadata": {
  "kernelspec": {
   "display_name": "Python 3",
   "language": "python",
   "name": "python3"
  },
  "language_info": {
   "codemirror_mode": {
    "name": "ipython",
    "version": 3
   },
   "file_extension": ".py",
   "mimetype": "text/x-python",
   "name": "python",
   "nbconvert_exporter": "python",
   "pygments_lexer": "ipython3",
   "version": "3.11.1"
  },
  "orig_nbformat": 4
 },
 "nbformat": 4,
 "nbformat_minor": 2
}
